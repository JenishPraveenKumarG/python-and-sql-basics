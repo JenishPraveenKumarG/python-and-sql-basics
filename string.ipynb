{
 "cells": [
  {
   "cell_type": "markdown",
   "id": "987d29b4",
   "metadata": {},
   "source": [
    "# String\n",
    "\n",
    "- String is a sequence<br>\n",
    "- Ascii and unicode"
   ]
  },
  {
   "cell_type": "markdown",
   "id": "267d915c",
   "metadata": {},
   "source": [
    "# String creation"
   ]
  },
  {
   "cell_type": "code",
   "execution_count": 2,
   "id": "ec6f0e04",
   "metadata": {},
   "outputs": [
    {
     "name": "stdout",
     "output_type": "stream",
     "text": [
      "Jenish\n",
      "Jenish\n",
      "Jenish\n"
     ]
    }
   ],
   "source": [
    "string = \"Jenish\"\n",
    "string1 = 'Jenish'\n",
    "string2 = '''Jenish'''\n",
    "\n",
    "print(string)\n",
    "print(string1)\n",
    "print(string2)"
   ]
  },
  {
   "cell_type": "markdown",
   "id": "e600fda4",
   "metadata": {},
   "source": [
    "# How to access characters in a string"
   ]
  },
  {
   "cell_type": "code",
   "execution_count": 3,
   "id": "e78b00ae",
   "metadata": {},
   "outputs": [
    {
     "name": "stdout",
     "output_type": "stream",
     "text": [
      "J\n",
      "h\n",
      "Je\n"
     ]
    }
   ],
   "source": [
    "mystr = 'Jenish'\n",
    "\n",
    "print(mystr[0])\n",
    "\n",
    "print(mystr[-1])\n",
    "\n",
    "print(mystr[0:2])"
   ]
  },
  {
   "cell_type": "code",
   "execution_count": 4,
   "id": "4f198213",
   "metadata": {},
   "outputs": [
    {
     "ename": "IndexError",
     "evalue": "string index out of range",
     "output_type": "error",
     "traceback": [
      "\u001b[0;31m---------------------------------------------------------------------------\u001b[0m",
      "\u001b[0;31mIndexError\u001b[0m                                Traceback (most recent call last)",
      "Cell \u001b[0;32mIn[4], line 1\u001b[0m\n\u001b[0;32m----> 1\u001b[0m \u001b[38;5;28mprint\u001b[39m(mystr[\u001b[38;5;241m17\u001b[39m])\n",
      "\u001b[0;31mIndexError\u001b[0m: string index out of range"
     ]
    }
   ],
   "source": [
    "print(mystr[17])"
   ]
  },
  {
   "cell_type": "markdown",
   "id": "58a99ab8",
   "metadata": {},
   "source": [
    "# How to change or delete a string?\n",
    "\n",
    "\n",
    "- string are immutable , we cant change the elements in a string <br>"
   ]
  },
  {
   "cell_type": "code",
   "execution_count": 6,
   "id": "0b3db58d",
   "metadata": {},
   "outputs": [
    {
     "ename": "TypeError",
     "evalue": "'str' object does not support item assignment",
     "output_type": "error",
     "traceback": [
      "\u001b[0;31m---------------------------------------------------------------------------\u001b[0m",
      "\u001b[0;31mTypeError\u001b[0m                                 Traceback (most recent call last)",
      "Cell \u001b[0;32mIn[6], line 3\u001b[0m\n\u001b[1;32m      1\u001b[0m my \u001b[38;5;241m=\u001b[39m \u001b[38;5;124m'\u001b[39m\u001b[38;5;124mJenish\u001b[39m\u001b[38;5;124m'\u001b[39m\n\u001b[0;32m----> 3\u001b[0m my[\u001b[38;5;241m0\u001b[39m] \u001b[38;5;241m=\u001b[39m \u001b[38;5;124m'\u001b[39m\u001b[38;5;124mk\u001b[39m\u001b[38;5;124m'\u001b[39m\n",
      "\u001b[0;31mTypeError\u001b[0m: 'str' object does not support item assignment"
     ]
    }
   ],
   "source": [
    "my = 'Jenish'\n",
    "\n",
    "my[0] = 'k'"
   ]
  },
  {
   "cell_type": "code",
   "execution_count": 7,
   "id": "590f0af4",
   "metadata": {},
   "outputs": [
    {
     "ename": "NameError",
     "evalue": "name 'my' is not defined",
     "output_type": "error",
     "traceback": [
      "\u001b[0;31m---------------------------------------------------------------------------\u001b[0m",
      "\u001b[0;31mNameError\u001b[0m                                 Traceback (most recent call last)",
      "Cell \u001b[0;32mIn[7], line 3\u001b[0m\n\u001b[1;32m      1\u001b[0m \u001b[38;5;28;01mdel\u001b[39;00m my\n\u001b[0;32m----> 3\u001b[0m \u001b[38;5;28mprint\u001b[39m(my)\n",
      "\u001b[0;31mNameError\u001b[0m: name 'my' is not defined"
     ]
    }
   ],
   "source": [
    "del my  # e delete whole string without and reference left\n",
    "\n",
    "print(my)"
   ]
  },
  {
   "cell_type": "markdown",
   "id": "fa277607",
   "metadata": {},
   "source": [
    "# String Operation"
   ]
  },
  {
   "cell_type": "code",
   "execution_count": 16,
   "id": "adf2d492",
   "metadata": {},
   "outputs": [
    {
     "name": "stdout",
     "output_type": "stream",
     "text": [
      "JenishKumar\n",
      "JenishJenishJenish\n"
     ]
    }
   ],
   "source": [
    "s1 = \"Jenish\"\n",
    "s2 = \"Kumar\"\n",
    "\n",
    "print(s1+s2)\n",
    "\n",
    "print(s1*3)"
   ]
  },
  {
   "cell_type": "markdown",
   "id": "83e7b508",
   "metadata": {},
   "source": [
    "# Iterating through a string"
   ]
  },
  {
   "cell_type": "code",
   "execution_count": 18,
   "id": "ca607f6e",
   "metadata": {},
   "outputs": [
    {
     "name": "stdout",
     "output_type": "stream",
     "text": [
      "2\n"
     ]
    }
   ],
   "source": [
    "count = 0\n",
    "\n",
    "for l in \"Hello World\":\n",
    "    if l == 'o':\n",
    "        count+=1\n",
    "print(count)"
   ]
  },
  {
   "cell_type": "markdown",
   "id": "236b6d18",
   "metadata": {},
   "source": [
    "# String membership Test"
   ]
  },
  {
   "cell_type": "code",
   "execution_count": 20,
   "id": "a5e304a1",
   "metadata": {},
   "outputs": [
    {
     "name": "stdout",
     "output_type": "stream",
     "text": [
      "False\n",
      "True\n"
     ]
    }
   ],
   "source": [
    "s = 'jenish is a good boy'\n",
    "\n",
    "print('z' in s)\n",
    "\n",
    "print('j' in s)"
   ]
  },
  {
   "cell_type": "markdown",
   "id": "fc4c87fe",
   "metadata": {},
   "source": [
    "# String Methods"
   ]
  },
  {
   "cell_type": "code",
   "execution_count": 21,
   "id": "77d7609f",
   "metadata": {},
   "outputs": [
    {
     "data": {
      "text/plain": [
       "'HELLO'"
      ]
     },
     "execution_count": 21,
     "metadata": {},
     "output_type": "execute_result"
    }
   ],
   "source": [
    "'hello'.upper()"
   ]
  },
  {
   "cell_type": "code",
   "execution_count": 22,
   "id": "684a1d18",
   "metadata": {},
   "outputs": [
    {
     "data": {
      "text/plain": [
       "'hello'"
      ]
     },
     "execution_count": 22,
     "metadata": {},
     "output_type": "execute_result"
    }
   ],
   "source": [
    "'HeLLo'.lower()"
   ]
  },
  {
   "cell_type": "code",
   "execution_count": 26,
   "id": "1e7d28a7",
   "metadata": {},
   "outputs": [
    {
     "data": {
      "text/plain": [
       "['This', 'will', 'split', 'the', 'string']"
      ]
     },
     "execution_count": 26,
     "metadata": {},
     "output_type": "execute_result"
    }
   ],
   "source": [
    "\"This will split the string\".split()"
   ]
  },
  {
   "cell_type": "code",
   "execution_count": 28,
   "id": "286367df",
   "metadata": {},
   "outputs": [
    {
     "data": {
      "text/plain": [
       "'This will split the string'"
      ]
     },
     "execution_count": 28,
     "metadata": {},
     "output_type": "execute_result"
    }
   ],
   "source": [
    "' '.join(['This', 'will', 'split', 'the', 'string'])"
   ]
  },
  {
   "cell_type": "code",
   "execution_count": 31,
   "id": "8da01080",
   "metadata": {},
   "outputs": [
    {
     "data": {
      "text/plain": [
       "5"
      ]
     },
     "execution_count": 31,
     "metadata": {},
     "output_type": "execute_result"
    }
   ],
   "source": [
    "\"Good morning\".find('mo')"
   ]
  },
  {
   "cell_type": "code",
   "execution_count": 33,
   "id": "304c1641",
   "metadata": {},
   "outputs": [
    {
     "name": "stdout",
     "output_type": "stream",
     "text": [
      "Bad morning\n",
      "Bad morning\n"
     ]
    }
   ],
   "source": [
    "s1 = \"Bad morning\"\n",
    "\n",
    "s2 = s1.replace(\"bad\" , \"good\")\n",
    "\n",
    "print(s1)\n",
    "print(s2)"
   ]
  },
  {
   "cell_type": "markdown",
   "id": "b904aec2",
   "metadata": {},
   "source": [
    "# Python program to check a string is palindrome or not"
   ]
  },
  {
   "cell_type": "code",
   "execution_count": 37,
   "id": "b2cb7850",
   "metadata": {},
   "outputs": [
    {
     "name": "stdout",
     "output_type": "stream",
     "text": [
      "madam\n",
      "True\n"
     ]
    }
   ],
   "source": [
    "st = input()\n",
    "st = st.lower()\n",
    "\n",
    "stt = reversed(st)\n",
    "\n",
    "if list(st) == list(stt):\n",
    "    print(True)\n",
    "else:\n",
    "    print(False)"
   ]
  },
  {
   "cell_type": "markdown",
   "id": "f9fdbaf8",
   "metadata": {},
   "source": [
    "# Python program to sort words in Alphabetical order"
   ]
  },
  {
   "cell_type": "code",
   "execution_count": 39,
   "id": "9e7656c1",
   "metadata": {},
   "outputs": [
    {
     "name": "stdout",
     "output_type": "stream",
     "text": [
      "Jenish\n",
      "best\n",
      "boy\n",
      "class\n",
      "in\n",
      "is\n",
      "of\n",
      "one\n",
      "the\n",
      "the\n"
     ]
    }
   ],
   "source": [
    "strr = \"Jenish is one of the best boy in the class\"\n",
    "\n",
    "words = strr.split()\n",
    "\n",
    "words.sort()\n",
    "\n",
    "\n",
    "for word in words:\n",
    "    print(word)"
   ]
  },
  {
   "cell_type": "code",
   "execution_count": null,
   "id": "a8174925",
   "metadata": {},
   "outputs": [],
   "source": []
  }
 ],
 "metadata": {
  "kernelspec": {
   "display_name": "Python 3 (ipykernel)",
   "language": "python",
   "name": "python3"
  },
  "language_info": {
   "codemirror_mode": {
    "name": "ipython",
    "version": 3
   },
   "file_extension": ".py",
   "mimetype": "text/x-python",
   "name": "python",
   "nbconvert_exporter": "python",
   "pygments_lexer": "ipython3",
   "version": "3.11.5"
  }
 },
 "nbformat": 4,
 "nbformat_minor": 5
}

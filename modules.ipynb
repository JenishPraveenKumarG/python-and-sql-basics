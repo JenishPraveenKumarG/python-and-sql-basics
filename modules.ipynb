{
 "cells": [
  {
   "cell_type": "markdown",
   "id": "3520c3ce",
   "metadata": {},
   "source": [
    "# Modules\n",
    "- it refers to a file containing python statement and definitions<br>\n",
    "- a file containing python code for eg: abc.py is called a module and the nmodule name is abc"
   ]
  },
  {
   "cell_type": "markdown",
   "id": "043ecf15",
   "metadata": {},
   "source": [
    "- we use modules to transform a large program into smaller manageable and organizedfiles.<br>\n",
    "- modules provide reusability of code <br>\n",
    "- we can import it easily and use the functions defined in it"
   ]
  },
  {
   "cell_type": "markdown",
   "id": "acdd6681",
   "metadata": {},
   "source": [
    "# How to import a module"
   ]
  },
  {
   "cell_type": "code",
   "execution_count": 4,
   "id": "9d3b4fcd",
   "metadata": {},
   "outputs": [
    {
     "ename": "ModuleNotFoundError",
     "evalue": "No module named 'example'",
     "output_type": "error",
     "traceback": [
      "\u001b[0;31m---------------------------------------------------------------------------\u001b[0m",
      "\u001b[0;31mModuleNotFoundError\u001b[0m                       Traceback (most recent call last)",
      "Cell \u001b[0;32mIn[4], line 1\u001b[0m\n\u001b[0;32m----> 1\u001b[0m \u001b[38;5;28;01mimport\u001b[39;00m \u001b[38;5;21;01mexample\u001b[39;00m\n",
      "\u001b[0;31mModuleNotFoundError\u001b[0m: No module named 'example'"
     ]
    }
   ],
   "source": [
    "import example  # import example module from another file"
   ]
  },
  {
   "cell_type": "code",
   "execution_count": 5,
   "id": "0fcf0485",
   "metadata": {},
   "outputs": [
    {
     "ename": "NameError",
     "evalue": "name 'example' is not defined",
     "output_type": "error",
     "traceback": [
      "\u001b[0;31m---------------------------------------------------------------------------\u001b[0m",
      "\u001b[0;31mNameError\u001b[0m                                 Traceback (most recent call last)",
      "Cell \u001b[0;32mIn[5], line 3\u001b[0m\n\u001b[1;32m      1\u001b[0m \u001b[38;5;66;03m# we will use dot to access the function\u001b[39;00m\n\u001b[0;32m----> 3\u001b[0m example\u001b[38;5;241m.\u001b[39madd(\u001b[38;5;241m10\u001b[39m,\u001b[38;5;241m20\u001b[39m)\n",
      "\u001b[0;31mNameError\u001b[0m: name 'example' is not defined"
     ]
    }
   ],
   "source": [
    "# we will use dot to access the function\n",
    "\n",
    "example.add(10,20)"
   ]
  },
  {
   "cell_type": "markdown",
   "id": "23116e16",
   "metadata": {},
   "source": [
    "# Python default inbuilt modules"
   ]
  },
  {
   "cell_type": "code",
   "execution_count": 10,
   "id": "1a5cf34d",
   "metadata": {},
   "outputs": [
    {
     "name": "stdout",
     "output_type": "stream",
     "text": [
      "3.141592653589793\n"
     ]
    }
   ],
   "source": [
    "import math\n",
    "\n",
    "print(math.pi)"
   ]
  },
  {
   "cell_type": "code",
   "execution_count": 11,
   "id": "d772ba9c",
   "metadata": {},
   "outputs": [
    {
     "data": {
      "text/plain": [
       "datetime.datetime(2024, 3, 1, 11, 54, 37, 459158)"
      ]
     },
     "execution_count": 11,
     "metadata": {},
     "output_type": "execute_result"
    }
   ],
   "source": [
    "import datetime\n",
    "\n",
    "datetime.datetime.now()"
   ]
  },
  {
   "cell_type": "markdown",
   "id": "dce1f6cd",
   "metadata": {},
   "source": [
    "# Imort with a rename"
   ]
  },
  {
   "cell_type": "code",
   "execution_count": 13,
   "id": "a73e096d",
   "metadata": {},
   "outputs": [
    {
     "name": "stdout",
     "output_type": "stream",
     "text": [
      "3.141592653589793\n"
     ]
    }
   ],
   "source": [
    "import math as m\n",
    "\n",
    "print(m.pi)"
   ]
  },
  {
   "cell_type": "markdown",
   "id": "e2cbc2e4",
   "metadata": {},
   "source": [
    "# import .... from statement"
   ]
  },
  {
   "cell_type": "code",
   "execution_count": 15,
   "id": "a1aacd35",
   "metadata": {},
   "outputs": [
    {
     "name": "stdout",
     "output_type": "stream",
     "text": [
      "2024-03-01 11:56:33.267816\n"
     ]
    }
   ],
   "source": [
    "from datetime import datetime\n",
    "print(datetime.now())"
   ]
  },
  {
   "cell_type": "markdown",
   "id": "b2f2bdac",
   "metadata": {},
   "source": [
    "# import all names"
   ]
  },
  {
   "cell_type": "code",
   "execution_count": 16,
   "id": "0b3b1bf9",
   "metadata": {},
   "outputs": [
    {
     "name": "stdout",
     "output_type": "stream",
     "text": [
      "3.141592653589793\n"
     ]
    }
   ],
   "source": [
    "from math import *\n",
    "\n",
    "print(math.pi)"
   ]
  },
  {
   "cell_type": "code",
   "execution_count": null,
   "id": "f7a9dff3",
   "metadata": {},
   "outputs": [],
   "source": []
  }
 ],
 "metadata": {
  "kernelspec": {
   "display_name": "Python 3 (ipykernel)",
   "language": "python",
   "name": "python3"
  },
  "language_info": {
   "codemirror_mode": {
    "name": "ipython",
    "version": 3
   },
   "file_extension": ".py",
   "mimetype": "text/x-python",
   "name": "python",
   "nbconvert_exporter": "python",
   "pygments_lexer": "ipython3",
   "version": "3.11.5"
  }
 },
 "nbformat": 4,
 "nbformat_minor": 5
}

{
 "cells": [
  {
   "cell_type": "markdown",
   "id": "75684f37",
   "metadata": {},
   "source": [
    "# List []"
   ]
  },
  {
   "cell_type": "markdown",
   "id": "5f15ee12",
   "metadata": {},
   "source": [
    "# List creation"
   ]
  },
  {
   "cell_type": "code",
   "execution_count": 2,
   "id": "f8753837",
   "metadata": {},
   "outputs": [
    {
     "name": "stdout",
     "output_type": "stream",
     "text": [
      "[4, 5, 6]\n"
     ]
    }
   ],
   "source": [
    "a = [1,2,3,4]\n",
    "\n",
    "b = ['a','b','c']\n",
    "\n",
    "c = [[1,2,3],[4,5,6]]\n",
    "\n",
    "print(c[1])"
   ]
  },
  {
   "cell_type": "markdown",
   "id": "9729d0b2",
   "metadata": {},
   "source": [
    "# List Length"
   ]
  },
  {
   "cell_type": "code",
   "execution_count": 4,
   "id": "7351ef48",
   "metadata": {},
   "outputs": [
    {
     "name": "stdout",
     "output_type": "stream",
     "text": [
      "9\n"
     ]
    }
   ],
   "source": [
    "n = [1,2,3,4,5,6,7,8,9]\n",
    "\n",
    "print(len(n))"
   ]
  },
  {
   "cell_type": "markdown",
   "id": "ab07a0c6",
   "metadata": {},
   "source": [
    "# List append"
   ]
  },
  {
   "cell_type": "code",
   "execution_count": 10,
   "id": "b62689d7",
   "metadata": {},
   "outputs": [
    {
     "name": "stdout",
     "output_type": "stream",
     "text": [
      "[1, 2, 3, 4]\n",
      "[1, 2, 3, 4, 5]\n"
     ]
    }
   ],
   "source": [
    "num = [1,2,3,4]\n",
    "print(num)\n",
    "\n",
    "num.append(5)\n",
    "print(num)"
   ]
  },
  {
   "cell_type": "markdown",
   "id": "013fb5e1",
   "metadata": {},
   "source": [
    "# List Insert"
   ]
  },
  {
   "cell_type": "code",
   "execution_count": 11,
   "id": "be6a489b",
   "metadata": {},
   "outputs": [
    {
     "name": "stdout",
     "output_type": "stream",
     "text": [
      "[1, 2, 3, 4]\n",
      "[1, 2, 10, 3, 4]\n"
     ]
    }
   ],
   "source": [
    "num = [1,2,3,4]\n",
    "print (num)\n",
    "\n",
    "num.insert(2,10)\n",
    "print(num)"
   ]
  },
  {
   "cell_type": "markdown",
   "id": "59894177",
   "metadata": {},
   "source": [
    "# List Remove"
   ]
  },
  {
   "cell_type": "code",
   "execution_count": 15,
   "id": "73a62e2a",
   "metadata": {},
   "outputs": [
    {
     "name": "stdout",
     "output_type": "stream",
     "text": [
      "[1, 2, 3, 4]\n"
     ]
    }
   ],
   "source": [
    "num = [1,2,10,3,4]\n",
    "num.remove(10)  # specify the value to delete\n",
    "print(num)"
   ]
  },
  {
   "cell_type": "markdown",
   "id": "81246cb8",
   "metadata": {},
   "source": [
    "# List append and extend"
   ]
  },
  {
   "cell_type": "code",
   "execution_count": 16,
   "id": "85df0630",
   "metadata": {},
   "outputs": [
    {
     "name": "stdout",
     "output_type": "stream",
     "text": [
      "[1, 2, 3, 4, [5, 6, 7]]\n"
     ]
    }
   ],
   "source": [
    "num = [1,2,3,4]\n",
    "\n",
    "num1 = [5,6,7]\n",
    "\n",
    "num.append(num1) # it adds the second list at the end\n",
    "print(num)"
   ]
  },
  {
   "cell_type": "code",
   "execution_count": 17,
   "id": "920b21c0",
   "metadata": {},
   "outputs": [
    {
     "name": "stdout",
     "output_type": "stream",
     "text": [
      "[1, 2, 3, 4, 5, 6, 7]\n"
     ]
    }
   ],
   "source": [
    "num = [1,2,3,4]\n",
    "\n",
    "num1 = [5,6,7]\n",
    "\n",
    "num.extend(num1) # this will join the second list with the first list\n",
    "print(num)"
   ]
  },
  {
   "cell_type": "markdown",
   "id": "de924264",
   "metadata": {},
   "source": [
    "# List delete"
   ]
  },
  {
   "cell_type": "code",
   "execution_count": 23,
   "id": "a4745f98",
   "metadata": {},
   "outputs": [
    {
     "name": "stdout",
     "output_type": "stream",
     "text": [
      "[2, 3, 4]\n",
      "[3]\n"
     ]
    }
   ],
   "source": [
    "num = [1,2,3,4]\n",
    "\n",
    "del num[0]\n",
    "print(num)\n",
    "\n",
    "# we can also use pop() to remove element\n",
    "\n",
    "num.pop(0) # it will remove first element\n",
    "num.pop(1)\n",
    "\n",
    "print(num) # it will remove the second element"
   ]
  },
  {
   "cell_type": "markdown",
   "id": "41228e89",
   "metadata": {},
   "source": [
    "# List related keywords in python"
   ]
  },
  {
   "cell_type": "code",
   "execution_count": 26,
   "id": "b0ac8902",
   "metadata": {},
   "outputs": [
    {
     "name": "stdout",
     "output_type": "stream",
     "text": [
      "helloo\n",
      "this is world of ai\n"
     ]
    }
   ],
   "source": [
    "# in is used to check an element is present in the list or not\n",
    "\n",
    "\n",
    "num = [1,2,3,4,5,6]\n",
    "\n",
    "if 1 in num:\n",
    "    print(\"helloo\")\n",
    "    \n",
    "if 7 not in num:\n",
    "    print(\"this is world of ai\")"
   ]
  },
  {
   "cell_type": "markdown",
   "id": "9ebd2f46",
   "metadata": {},
   "source": [
    "# List Reverse"
   ]
  },
  {
   "cell_type": "code",
   "execution_count": 27,
   "id": "01e7ebbf",
   "metadata": {},
   "outputs": [
    {
     "name": "stdout",
     "output_type": "stream",
     "text": [
      "[5, 4, 3, 2, 1]\n"
     ]
    }
   ],
   "source": [
    "num = [1,2,3,4,5]\n",
    "\n",
    "num.reverse()\n",
    "\n",
    "print(num)"
   ]
  },
  {
   "cell_type": "markdown",
   "id": "5954cf5f",
   "metadata": {},
   "source": [
    "# List sorting"
   ]
  },
  {
   "cell_type": "code",
   "execution_count": 31,
   "id": "056a091a",
   "metadata": {},
   "outputs": [
    {
     "name": "stdout",
     "output_type": "stream",
     "text": [
      "[1, 3, 5, 6, 7, 8]\n"
     ]
    }
   ],
   "source": [
    "# ascending order\n",
    "\n",
    "num = [8,3,5,1,6,7]\n",
    "\n",
    "#num.sort()\n",
    "sor = sorted(num)  # can use any one of the method\n",
    "print(sor)"
   ]
  },
  {
   "cell_type": "code",
   "execution_count": null,
   "id": "e4aa45ad",
   "metadata": {},
   "outputs": [],
   "source": [
    "# descending order"
   ]
  },
  {
   "cell_type": "code",
   "execution_count": 32,
   "id": "91413d81",
   "metadata": {},
   "outputs": [
    {
     "name": "stdout",
     "output_type": "stream",
     "text": [
      "[5, 4, 3, 2, 1]\n"
     ]
    }
   ],
   "source": [
    "num = [1,2,3,4,5]\n",
    "sor = sorted(num,reverse = True)\n",
    "\n",
    "print(sor)"
   ]
  },
  {
   "cell_type": "markdown",
   "id": "60aa3f3f",
   "metadata": {},
   "source": [
    "# List has multiple references"
   ]
  },
  {
   "cell_type": "code",
   "execution_count": 33,
   "id": "a5535cbe",
   "metadata": {},
   "outputs": [
    {
     "name": "stdout",
     "output_type": "stream",
     "text": [
      "[1, 2, 3, 4, 5]\n"
     ]
    }
   ],
   "source": [
    "num = [1,2,3,4]\n",
    "\n",
    "y = num\n",
    "\n",
    "y.append(5)\n",
    "\n",
    "print(num)\n"
   ]
  },
  {
   "cell_type": "markdown",
   "id": "b04edc26",
   "metadata": {},
   "source": [
    "# Split a string to create a list"
   ]
  },
  {
   "cell_type": "code",
   "execution_count": 36,
   "id": "c06f0363",
   "metadata": {},
   "outputs": [
    {
     "name": "stdout",
     "output_type": "stream",
     "text": [
      "['Jenish', 'is', 'a', 'beautiful', 'men']\n"
     ]
    }
   ],
   "source": [
    "string = \"Jenish is a beautiful men\"\n",
    "\n",
    "spl = string.split(' ')\n",
    "print(spl)"
   ]
  },
  {
   "cell_type": "code",
   "execution_count": 38,
   "id": "cce9afcb",
   "metadata": {},
   "outputs": [
    {
     "data": {
      "text/plain": [
       "['jeni', 'praveen', 'kumar']"
      ]
     },
     "execution_count": 38,
     "metadata": {},
     "output_type": "execute_result"
    }
   ],
   "source": [
    "string = \"jeni,praveen,kumar\"\n",
    "spl = string.split(',')\n",
    "spl"
   ]
  },
  {
   "cell_type": "markdown",
   "id": "51835359",
   "metadata": {},
   "source": [
    "# List indexing"
   ]
  },
  {
   "cell_type": "code",
   "execution_count": 39,
   "id": "b1854b6a",
   "metadata": {},
   "outputs": [
    {
     "name": "stdout",
     "output_type": "stream",
     "text": [
      "3\n"
     ]
    }
   ],
   "source": [
    "n = [1 , 2 , 3 , 4]\n",
    "print(n[2])"
   ]
  },
  {
   "cell_type": "markdown",
   "id": "a14ae639",
   "metadata": {},
   "source": [
    "#  List slicing"
   ]
  },
  {
   "cell_type": "code",
   "execution_count": 44,
   "id": "b4989545",
   "metadata": {},
   "outputs": [
    {
     "name": "stdout",
     "output_type": "stream",
     "text": [
      "[1, 2, 3, 4, 5]\n",
      "[2]\n",
      "[1, 2, 3]\n",
      "[1, 3, 5]\n",
      "[3, 5]\n"
     ]
    }
   ],
   "source": [
    "num = [1,2,3,4,5]\n",
    "\n",
    "print(num[:])\n",
    "\n",
    "print(num[1:2])\n",
    "\n",
    "print(num[:3])\n",
    "\n",
    "print(num[::2])\n",
    "\n",
    "print(num[2::2])"
   ]
  },
  {
   "cell_type": "markdown",
   "id": "0878dd3a",
   "metadata": {},
   "source": [
    "# List extend using \"+\""
   ]
  },
  {
   "cell_type": "code",
   "execution_count": 47,
   "id": "6b8b2aae",
   "metadata": {},
   "outputs": [
    {
     "name": "stdout",
     "output_type": "stream",
     "text": [
      "[1, 2, 3, 4, 5, 'varma', 'Arjun']\n"
     ]
    }
   ],
   "source": [
    "num = [1,2,3,4,5]\n",
    "name = [\"varma\",'Arjun']\n",
    "\n",
    "#num.extend(name)\n",
    "\n",
    "new = num+name\n",
    "print(new)"
   ]
  },
  {
   "cell_type": "markdown",
   "id": "b821bf08",
   "metadata": {},
   "source": [
    "# List count"
   ]
  },
  {
   "cell_type": "code",
   "execution_count": 49,
   "id": "e998e9a6",
   "metadata": {},
   "outputs": [
    {
     "name": "stdout",
     "output_type": "stream",
     "text": [
      "2\n",
      "3\n"
     ]
    }
   ],
   "source": [
    "num = [1,1,2,2,2,3,3,4]\n",
    "\n",
    "#count is used to find the frequency of each element\n",
    "\n",
    "print(num.count(1))\n",
    "print(num.count(2))"
   ]
  },
  {
   "cell_type": "markdown",
   "id": "dde52f02",
   "metadata": {},
   "source": [
    "# List looping"
   ]
  },
  {
   "cell_type": "code",
   "execution_count": 51,
   "id": "af2a6f91",
   "metadata": {},
   "outputs": [
    {
     "name": "stdout",
     "output_type": "stream",
     "text": [
      "1\n",
      "2\n",
      "3\n",
      "3\n",
      "4\n"
     ]
    }
   ],
   "source": [
    "num = [1,2,3,3,4]\n",
    "\n",
    "for ele in num:\n",
    "    print(ele)"
   ]
  },
  {
   "cell_type": "markdown",
   "id": "91903f81",
   "metadata": {},
   "source": [
    "# List comprehension"
   ]
  },
  {
   "cell_type": "code",
   "execution_count": 52,
   "id": "8be271f4",
   "metadata": {},
   "outputs": [
    {
     "name": "stdout",
     "output_type": "stream",
     "text": [
      "[0, 1, 4, 9, 16, 25, 36, 49, 64, 81]\n"
     ]
    }
   ],
   "source": [
    "squares = []\n",
    "\n",
    "for i in range(10):\n",
    "    squares.append(i**2) #list append\n",
    "print(squares)"
   ]
  },
  {
   "cell_type": "code",
   "execution_count": 53,
   "id": "999a363e",
   "metadata": {},
   "outputs": [
    {
     "name": "stdout",
     "output_type": "stream",
     "text": [
      "[0, 1, 4, 9, 16, 25, 36, 49, 64, 81]\n"
     ]
    }
   ],
   "source": [
    "squares = [i**2 for i in range(10)]\n",
    "print(squares)"
   ]
  },
  {
   "cell_type": "code",
   "execution_count": 57,
   "id": "3723feac",
   "metadata": {},
   "outputs": [
    {
     "name": "stdout",
     "output_type": "stream",
     "text": [
      "[-20, -40, 20, 40, 100]\n",
      "[10, 20, 50]\n",
      "[(-10, 100), (-20, 400), (10, 100), (20, 400), (50, 2500)]\n"
     ]
    }
   ],
   "source": [
    "# examples\n",
    "\n",
    "lst = [-10,-20,10,20,50]\n",
    "\n",
    "# create a new list with values doubled\n",
    "\n",
    "new = [i*2 for i in lst]\n",
    "print(new)\n",
    "\n",
    "# filter the list by taking only positive values\n",
    "\n",
    "new1 = [i for i in lst if i>0]\n",
    "print(new1)\n",
    "\n",
    "# create a list of tuples like(number, square of number)\n",
    "\n",
    "new2 = [(i,i**2) for i in lst]\n",
    "print(new2)"
   ]
  },
  {
   "cell_type": "markdown",
   "id": "b8f922ea",
   "metadata": {},
   "source": [
    "# Transpose of a matrix"
   ]
  },
  {
   "cell_type": "code",
   "execution_count": 60,
   "id": "f2080d93",
   "metadata": {},
   "outputs": [
    {
     "name": "stdout",
     "output_type": "stream",
     "text": [
      "[[1, 4, 7], [2, 5, 8], [3, 6, 9], [7, 1, 5]]\n"
     ]
    }
   ],
   "source": [
    "matrix = [\n",
    "    [1,2,3,7],\n",
    "    [4,5,6,1],\n",
    "    [7,8,9,5]\n",
    "]\n",
    "\n",
    "# transpose\n",
    "\n",
    "transposed = []\n",
    "\n",
    "for i in range(4):\n",
    "    lst = []\n",
    "    for row in matrix:\n",
    "        lst.append(row[i])\n",
    "    transposed.append(lst)\n",
    "print(transposed)"
   ]
  },
  {
   "cell_type": "code",
   "execution_count": 61,
   "id": "751dbd7f",
   "metadata": {},
   "outputs": [
    {
     "name": "stdout",
     "output_type": "stream",
     "text": [
      "[[1, 4, 7], [2, 5, 8], [3, 6, 9], [7, 1, 5]]\n"
     ]
    }
   ],
   "source": [
    "transpose = [[row[i] for row in matrix] for i in range(4)]\n",
    "print(transpose)"
   ]
  },
  {
   "cell_type": "code",
   "execution_count": 62,
   "id": "0f4e452b",
   "metadata": {},
   "outputs": [
    {
     "name": "stdout",
     "output_type": "stream",
     "text": [
      "[[1, 2, 3, 7], [4, 5, 6, 1], [7, 8, 9, 5]]\n"
     ]
    }
   ],
   "source": [
    "trans = [[col[i] for col in transpose] for i in range(3)]\n",
    "print(trans)"
   ]
  },
  {
   "cell_type": "code",
   "execution_count": null,
   "id": "171e54eb",
   "metadata": {},
   "outputs": [],
   "source": []
  },
  {
   "cell_type": "code",
   "execution_count": null,
   "id": "0115d2ff",
   "metadata": {},
   "outputs": [],
   "source": []
  },
  {
   "cell_type": "code",
   "execution_count": null,
   "id": "158372e3",
   "metadata": {},
   "outputs": [],
   "source": []
  }
 ],
 "metadata": {
  "kernelspec": {
   "display_name": "Python 3 (ipykernel)",
   "language": "python",
   "name": "python3"
  },
  "language_info": {
   "codemirror_mode": {
    "name": "ipython",
    "version": 3
   },
   "file_extension": ".py",
   "mimetype": "text/x-python",
   "name": "python",
   "nbconvert_exporter": "python",
   "pygments_lexer": "ipython3",
   "version": "3.11.5"
  }
 },
 "nbformat": 4,
 "nbformat_minor": 5
}

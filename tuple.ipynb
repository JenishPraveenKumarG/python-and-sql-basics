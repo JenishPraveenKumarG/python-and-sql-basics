{
 "cells": [
  {
   "cell_type": "markdown",
   "id": "472c93c9",
   "metadata": {},
   "source": [
    "# tuple\n",
    "\n",
    "- Similar to list <br>\n",
    "- we cant change elements in a tuple after values has been assigned"
   ]
  },
  {
   "cell_type": "markdown",
   "id": "5460272c",
   "metadata": {},
   "source": [
    "# Tuple creation"
   ]
  },
  {
   "cell_type": "code",
   "execution_count": 3,
   "id": "1f810e0e",
   "metadata": {},
   "outputs": [
    {
     "name": "stdout",
     "output_type": "stream",
     "text": [
      "<class 'tuple'>\n",
      "(1, 2, 3)\n",
      "(1, 'Raju', 2, 'Dolu')\n",
      "(1, (1, 2, 3), (1, 'Raju', 2, 'Dolu'))\n"
     ]
    }
   ],
   "source": [
    "# empty tuple\n",
    "\n",
    "t = ()\n",
    "print(type(t))   # <class 'tuple'>\n",
    "\n",
    "# tuple having integers\n",
    "\n",
    "t = (1,2,3)\n",
    "print(t)\n",
    "\n",
    "# tuple having mixed values\n",
    "\n",
    "t = (1,\"Raju\",2,\"Dolu\")\n",
    "print(t)\n",
    "\n",
    "# nested tuple\n",
    "\n",
    "t = (1,(1,2,3),(1,\"Raju\",2,\"Dolu\"))\n",
    "print(t)\n"
   ]
  },
  {
   "cell_type": "code",
   "execution_count": 6,
   "id": "95c89525",
   "metadata": {},
   "outputs": [
    {
     "data": {
      "text/plain": [
       "tuple"
      ]
     },
     "execution_count": 6,
     "metadata": {},
     "output_type": "execute_result"
    }
   ],
   "source": [
    "# only parenthesis is not enough\n",
    "\n",
    "t = ('Jenish')\n",
    "type(t)  # str\n",
    "\n",
    "\n",
    "# we must use comma\n",
    "\n",
    "t = (\"Jenish\",)\n",
    "type(t)  # tuple\n",
    "\n",
    "\n",
    "# or we dont need parenthesis\n",
    "\n",
    "t = \"Jenish\",\n",
    "type(t)  # tuple"
   ]
  },
  {
   "cell_type": "markdown",
   "id": "6b88131e",
   "metadata": {},
   "source": [
    "# Accessing elements in a tuple"
   ]
  },
  {
   "cell_type": "code",
   "execution_count": 11,
   "id": "578d0424",
   "metadata": {},
   "outputs": [
    {
     "name": "stdout",
     "output_type": "stream",
     "text": [
      "1\n",
      "6\n",
      "(3, 4, 5)\n",
      "4\n"
     ]
    }
   ],
   "source": [
    "t  = (1,2,(3,4,5),6)\n",
    "\n",
    "print(t[0])\n",
    "\n",
    "print(t[-1])\n",
    "\n",
    "print(t[2])\n",
    "\n",
    "print(t[2][1])"
   ]
  },
  {
   "cell_type": "code",
   "execution_count": 14,
   "id": "9819ab5d",
   "metadata": {},
   "outputs": [
    {
     "name": "stdout",
     "output_type": "stream",
     "text": [
      "(2, 3)\n",
      "6\n"
     ]
    }
   ],
   "source": [
    "t = (1,2,3,4,5,6,7)\n",
    "\n",
    "\n",
    "#slicing\n",
    "\n",
    "print(t[1:3])\n",
    "\n",
    "print(t[-2])"
   ]
  },
  {
   "cell_type": "markdown",
   "id": "c5da11e9",
   "metadata": {},
   "source": [
    "# Changes in tuple\n",
    "\n",
    "- unlike list, tuples ate immutable<br>\n",
    "- but if elements in a tuple are of mutable type like list then we can change it\n"
   ]
  },
  {
   "cell_type": "code",
   "execution_count": 16,
   "id": "cee80633",
   "metadata": {},
   "outputs": [
    {
     "ename": "TypeError",
     "evalue": "'tuple' object does not support item assignment",
     "output_type": "error",
     "traceback": [
      "\u001b[0;31m---------------------------------------------------------------------------\u001b[0m",
      "\u001b[0;31mTypeError\u001b[0m                                 Traceback (most recent call last)",
      "Cell \u001b[0;32mIn[16], line 3\u001b[0m\n\u001b[1;32m      1\u001b[0m t \u001b[38;5;241m=\u001b[39m (\u001b[38;5;241m1\u001b[39m,\u001b[38;5;241m2\u001b[39m,\u001b[38;5;241m3\u001b[39m,\u001b[38;5;241m4\u001b[39m,[\u001b[38;5;241m5\u001b[39m,\u001b[38;5;241m6\u001b[39m,\u001b[38;5;241m7\u001b[39m,\u001b[38;5;241m8\u001b[39m,\u001b[38;5;241m9\u001b[39m])\n\u001b[0;32m----> 3\u001b[0m t[\u001b[38;5;241m2\u001b[39m] \u001b[38;5;241m=\u001b[39m \u001b[38;5;124m'\u001b[39m\u001b[38;5;124mx\u001b[39m\u001b[38;5;124m'\u001b[39m\n",
      "\u001b[0;31mTypeError\u001b[0m: 'tuple' object does not support item assignment"
     ]
    }
   ],
   "source": [
    "t = (1,2,3,4,[5,6,7,8,9])\n",
    "\n",
    "t[2] = 'x'"
   ]
  },
  {
   "cell_type": "code",
   "execution_count": 18,
   "id": "d312349f",
   "metadata": {},
   "outputs": [
    {
     "name": "stdout",
     "output_type": "stream",
     "text": [
      "(1, 2, 3, 4, [5, 'Bala', 7, 8, 9])\n"
     ]
    }
   ],
   "source": [
    "t[4][1] = \"Bala\"\n",
    "print(t)"
   ]
  },
  {
   "cell_type": "markdown",
   "id": "15bd3d63",
   "metadata": {},
   "source": [
    "# Concatinating tuples"
   ]
  },
  {
   "cell_type": "code",
   "execution_count": 19,
   "id": "0ef32d11",
   "metadata": {},
   "outputs": [
    {
     "data": {
      "text/plain": [
       "(1, 2, 3, 4, 5, 6)"
      ]
     },
     "execution_count": 19,
     "metadata": {},
     "output_type": "execute_result"
    }
   ],
   "source": [
    "t = (1,2,3) + (4,5,6)\n",
    "t"
   ]
  },
  {
   "cell_type": "code",
   "execution_count": 20,
   "id": "4f6a0c3f",
   "metadata": {},
   "outputs": [
    {
     "data": {
      "text/plain": [
       "('Sathish', 'Sathish', 'Sathish', 'Sathish')"
      ]
     },
     "execution_count": 20,
     "metadata": {},
     "output_type": "execute_result"
    }
   ],
   "source": [
    "t = ((\"Sathish\",)*4)\n",
    "t"
   ]
  },
  {
   "cell_type": "markdown",
   "id": "7f580a70",
   "metadata": {},
   "source": [
    "# Tuple \n",
    "\n",
    "- we cant delete elements in a tupke as they are immutatble<br>\n",
    "- cant delete or remove items"
   ]
  },
  {
   "cell_type": "code",
   "execution_count": 22,
   "id": "de4607fa",
   "metadata": {},
   "outputs": [
    {
     "ename": "NameError",
     "evalue": "name 't' is not defined",
     "output_type": "error",
     "traceback": [
      "\u001b[0;31m---------------------------------------------------------------------------\u001b[0m",
      "\u001b[0;31mNameError\u001b[0m                                 Traceback (most recent call last)",
      "Cell \u001b[0;32mIn[22], line 3\u001b[0m\n\u001b[1;32m      1\u001b[0m t \u001b[38;5;241m=\u001b[39m (\u001b[38;5;241m1\u001b[39m,\u001b[38;5;241m2\u001b[39m,\u001b[38;5;241m3\u001b[39m,\u001b[38;5;241m4\u001b[39m)\n\u001b[1;32m      2\u001b[0m \u001b[38;5;28;01mdel\u001b[39;00m t\n\u001b[0;32m----> 3\u001b[0m \u001b[38;5;28mprint\u001b[39m(t)\n",
      "\u001b[0;31mNameError\u001b[0m: name 't' is not defined"
     ]
    }
   ],
   "source": [
    "t = (1,2,3,4)\n",
    "del t           # entire tuple is deleted\n",
    "print(t)"
   ]
  },
  {
   "cell_type": "markdown",
   "id": "aad37695",
   "metadata": {},
   "source": [
    "# Tuple count"
   ]
  },
  {
   "cell_type": "code",
   "execution_count": 24,
   "id": "e768218a",
   "metadata": {},
   "outputs": [
    {
     "data": {
      "text/plain": [
       "5"
      ]
     },
     "execution_count": 24,
     "metadata": {},
     "output_type": "execute_result"
    }
   ],
   "source": [
    "# used to get the frequency of each element in a tuple\n",
    "\n",
    "t = (1,2,3,4,5,6,6,6,6,6)\n",
    "t.count(6)"
   ]
  },
  {
   "cell_type": "markdown",
   "id": "50d6699f",
   "metadata": {},
   "source": [
    "# Tuple membership"
   ]
  },
  {
   "cell_type": "code",
   "execution_count": 25,
   "id": "2c327449",
   "metadata": {},
   "outputs": [
    {
     "name": "stdout",
     "output_type": "stream",
     "text": [
      "True\n"
     ]
    }
   ],
   "source": [
    "# test if an element is in tuple or not using keyword \"is\"\n",
    "\n",
    "t = (1,2,3,4,5,5)\n",
    "print(5 in t)"
   ]
  },
  {
   "cell_type": "code",
   "execution_count": 26,
   "id": "21843e44",
   "metadata": {},
   "outputs": [
    {
     "name": "stdout",
     "output_type": "stream",
     "text": [
      "False\n"
     ]
    }
   ],
   "source": [
    "print(6 in t)"
   ]
  },
  {
   "cell_type": "markdown",
   "id": "255268f8",
   "metadata": {},
   "source": [
    "# Built in functions"
   ]
  },
  {
   "cell_type": "markdown",
   "id": "85f7e5a7",
   "metadata": {},
   "source": [
    "# Tuple Length"
   ]
  },
  {
   "cell_type": "code",
   "execution_count": 28,
   "id": "8d2d71ed",
   "metadata": {},
   "outputs": [
    {
     "name": "stdout",
     "output_type": "stream",
     "text": [
      "5\n"
     ]
    }
   ],
   "source": [
    "t = (1,2,3,4,5)\n",
    "\n",
    "print(len(t))"
   ]
  },
  {
   "cell_type": "markdown",
   "id": "40bd3176",
   "metadata": {},
   "source": [
    "# Tuple Sort"
   ]
  },
  {
   "cell_type": "code",
   "execution_count": 31,
   "id": "f2f2874e",
   "metadata": {},
   "outputs": [
    {
     "data": {
      "text/plain": [
       "[2, 2, 3, 5, 5, 5, 7, 7, 9]"
      ]
     },
     "execution_count": 31,
     "metadata": {},
     "output_type": "execute_result"
    }
   ],
   "source": [
    "t = (5,3,7,2,5,7,9,2,5)\n",
    "\n",
    "new = sorted(t)\n",
    "new"
   ]
  },
  {
   "cell_type": "code",
   "execution_count": 32,
   "id": "53c4c014",
   "metadata": {},
   "outputs": [
    {
     "name": "stdout",
     "output_type": "stream",
     "text": [
      "9\n"
     ]
    }
   ],
   "source": [
    "# max\n",
    "\n",
    "print(max(t))"
   ]
  },
  {
   "cell_type": "code",
   "execution_count": 33,
   "id": "9061ce5f",
   "metadata": {},
   "outputs": [
    {
     "name": "stdout",
     "output_type": "stream",
     "text": [
      "2\n"
     ]
    }
   ],
   "source": [
    "# min\n",
    "\n",
    "print(min(t))"
   ]
  },
  {
   "cell_type": "code",
   "execution_count": 34,
   "id": "f89d7206",
   "metadata": {},
   "outputs": [
    {
     "name": "stdout",
     "output_type": "stream",
     "text": [
      "45\n"
     ]
    }
   ],
   "source": [
    "# sum\n",
    "\n",
    "print(sum(t))"
   ]
  },
  {
   "cell_type": "code",
   "execution_count": null,
   "id": "1eb6e1cd",
   "metadata": {},
   "outputs": [],
   "source": []
  }
 ],
 "metadata": {
  "kernelspec": {
   "display_name": "Python 3 (ipykernel)",
   "language": "python",
   "name": "python3"
  },
  "language_info": {
   "codemirror_mode": {
    "name": "ipython",
    "version": 3
   },
   "file_extension": ".py",
   "mimetype": "text/x-python",
   "name": "python",
   "nbconvert_exporter": "python",
   "pygments_lexer": "ipython3",
   "version": "3.11.5"
  }
 },
 "nbformat": 4,
 "nbformat_minor": 5
}

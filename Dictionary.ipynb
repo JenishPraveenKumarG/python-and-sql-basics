{
 "cells": [
  {
   "cell_type": "markdown",
   "id": "929d7931",
   "metadata": {},
   "source": [
    "# Dictionary\n",
    "\n",
    "- python dictionary is an unordered collection of items<br>\n",
    "- key, value pair"
   ]
  },
  {
   "cell_type": "markdown",
   "id": "9e58e9c3",
   "metadata": {},
   "source": [
    "# Dictionary creation"
   ]
  },
  {
   "cell_type": "code",
   "execution_count": 8,
   "id": "72efc5b9",
   "metadata": {},
   "outputs": [
    {
     "name": "stdout",
     "output_type": "stream",
     "text": [
      "<class 'dict'>\n",
      "{1: 'abc', 2: 'balaya'}\n",
      "{1: 'bala', 2: 'kissa'}\n"
     ]
    }
   ],
   "source": [
    "# empty dictionary\n",
    "\n",
    "my_dict = {}\n",
    "\n",
    "print(type(my_dict))\n",
    "\n",
    "# dictionary with integer keys\n",
    "\n",
    "dic = {1 : 'abc', 2 : 'balaya'}\n",
    "print(dic)\n",
    "\n",
    "\n",
    "# creating a dictionary using dict()\n",
    "\n",
    "my_dict = dict()\n",
    "my_dict = dict([(1,'bala') , (2,'kissa')])\n",
    "print(my_dict)"
   ]
  },
  {
   "cell_type": "markdown",
   "id": "a6584e74",
   "metadata": {},
   "source": [
    "# Dictionary Access"
   ]
  },
  {
   "cell_type": "code",
   "execution_count": 9,
   "id": "3c53cc78",
   "metadata": {},
   "outputs": [
    {
     "name": "stdout",
     "output_type": "stream",
     "text": [
      "sathish\n"
     ]
    }
   ],
   "source": [
    "my_dict = {'name' : 'sathish' , 'age' : 29 , 'address' : 'Chennai'}\n",
    "\n",
    "print(my_dict['name'])"
   ]
  },
  {
   "cell_type": "code",
   "execution_count": 10,
   "id": "cfd87180",
   "metadata": {},
   "outputs": [
    {
     "ename": "NameError",
     "evalue": "name 'mydict' is not defined",
     "output_type": "error",
     "traceback": [
      "\u001b[0;31m---------------------------------------------------------------------------\u001b[0m",
      "\u001b[0;31mNameError\u001b[0m                                 Traceback (most recent call last)",
      "Cell \u001b[0;32mIn[10], line 3\u001b[0m\n\u001b[1;32m      1\u001b[0m \u001b[38;5;66;03m# wrong access\u001b[39;00m\n\u001b[0;32m----> 3\u001b[0m \u001b[38;5;28mprint\u001b[39m(mydict[\u001b[38;5;124m'\u001b[39m\u001b[38;5;124madd\u001b[39m\u001b[38;5;124m'\u001b[39m])\n",
      "\u001b[0;31mNameError\u001b[0m: name 'mydict' is not defined"
     ]
    }
   ],
   "source": [
    "# wrong access\n",
    "\n",
    "print(mydict['add'])"
   ]
  },
  {
   "cell_type": "code",
   "execution_count": 11,
   "id": "c76f285c",
   "metadata": {},
   "outputs": [
    {
     "name": "stdout",
     "output_type": "stream",
     "text": [
      "Chennai\n"
     ]
    }
   ],
   "source": [
    "# another methods\n",
    "print(my_dict.get('address'))"
   ]
  },
  {
   "cell_type": "markdown",
   "id": "a5e346f5",
   "metadata": {},
   "source": [
    "# Dictionary add or modify elements"
   ]
  },
  {
   "cell_type": "code",
   "execution_count": 13,
   "id": "873112e2",
   "metadata": {},
   "outputs": [
    {
     "name": "stdout",
     "output_type": "stream",
     "text": [
      "{'name': 'jenish', 'age': 100, 'address': 'Chennai'}\n",
      "{'name': 'jenish', 'age': 100, 'address': 'Chennai', 'degree': 'M.tech'}\n"
     ]
    }
   ],
   "source": [
    "my_dict = {'name' : 'Jenish' , 'age' : 100 , 'address' : 'Chennai'}\n",
    "\n",
    "# update name\n",
    "\n",
    "my_dict['name'] = 'jenish'\n",
    "print(my_dict)\n",
    "\n",
    "# add new key\n",
    "\n",
    "my_dict['degree'] = 'M.tech'\n",
    "print(my_dict)"
   ]
  },
  {
   "cell_type": "markdown",
   "id": "7ff19786",
   "metadata": {},
   "source": [
    "# Dictionary delete or remove element"
   ]
  },
  {
   "cell_type": "code",
   "execution_count": 15,
   "id": "bcfd1b02",
   "metadata": {
    "scrolled": true
   },
   "outputs": [
    {
     "name": "stdout",
     "output_type": "stream",
     "text": [
      "100\n",
      "{'name': 'Jenish', 'address': 'Chennai'}\n"
     ]
    }
   ],
   "source": [
    "# create a dictionary\n",
    "\n",
    "my_dict = {'name' : 'Jenish' , 'age' : 100 , 'address' : 'Chennai'}\n",
    "\n",
    "# remove a particular item\n",
    "\n",
    "print(my_dict.pop('age'))\n",
    "\n",
    "print(my_dict)"
   ]
  },
  {
   "cell_type": "code",
   "execution_count": 17,
   "id": "9063c306",
   "metadata": {
    "scrolled": true
   },
   "outputs": [
    {
     "name": "stdout",
     "output_type": "stream",
     "text": [
      "{'name': 'Jenish', 'age': 100}\n"
     ]
    }
   ],
   "source": [
    "my_dict = {'name' : 'Jenish' , 'age' : 100 , 'address' : 'Chennai'}\n",
    "\n",
    "# remove a key\n",
    "\n",
    "my_dict.popitem()\n",
    "\n",
    "print(my_dict)"
   ]
  },
  {
   "cell_type": "code",
   "execution_count": 22,
   "id": "5dc9f35a",
   "metadata": {},
   "outputs": [
    {
     "data": {
      "text/plain": [
       "{3: 9, 4: 16}"
      ]
     },
     "execution_count": 22,
     "metadata": {},
     "output_type": "execute_result"
    }
   ],
   "source": [
    "squares = {2 : 4, 3:9 , 4:16}\n",
    "\n",
    "del squares[2]\n",
    "\n",
    "squares"
   ]
  },
  {
   "cell_type": "code",
   "execution_count": 23,
   "id": "f45aeb4b",
   "metadata": {},
   "outputs": [
    {
     "name": "stdout",
     "output_type": "stream",
     "text": [
      "{}\n"
     ]
    }
   ],
   "source": [
    "# to remove entire dictionary\n",
    "\n",
    "squares.clear()\n",
    "\n",
    "# or we can use\n",
    "\n",
    "del squares\n",
    "\n",
    "print(squares)"
   ]
  },
  {
   "cell_type": "markdown",
   "id": "ab1dc984",
   "metadata": {},
   "source": [
    "# Dictionary methods"
   ]
  },
  {
   "cell_type": "code",
   "execution_count": 24,
   "id": "28d42d45",
   "metadata": {},
   "outputs": [
    {
     "name": "stdout",
     "output_type": "stream",
     "text": [
      "{2: 4, 3: 9, 4: 16, 5: 25}\n"
     ]
    }
   ],
   "source": [
    "squares = {2 : 4, 3:9 , 4:16 , 5:25}\n",
    "\n",
    "# copy method is used to copy values\n",
    "\n",
    "my_dict = squares.copy()\n",
    "\n",
    "print(my_dict)\n"
   ]
  },
  {
   "cell_type": "code",
   "execution_count": 26,
   "id": "e10acd5c",
   "metadata": {},
   "outputs": [
    {
     "name": "stdout",
     "output_type": "stream",
     "text": [
      "{'Maths': 0, 'English': 0, 'tamil': 0}\n"
     ]
    }
   ],
   "source": [
    "# fromkeys[seq[,v]] -> Return a new dictionary with keys from seq and values\n",
    "\n",
    "subjects = {}.fromkeys(['Maths' , 'English' , 'tamil'] , 0)\n",
    "\n",
    "print(subjects)"
   ]
  },
  {
   "cell_type": "code",
   "execution_count": 27,
   "id": "f188427a",
   "metadata": {},
   "outputs": [
    {
     "name": "stdout",
     "output_type": "stream",
     "text": [
      "dict_items([(2, 4), (3, 9), (4, 16), (5, 25)])\n"
     ]
    }
   ],
   "source": [
    "squares = {2 : 4, 3:9 , 4:16 , 5:25}\n",
    "\n",
    "print(squares.items())"
   ]
  },
  {
   "cell_type": "code",
   "execution_count": 28,
   "id": "c83ae15e",
   "metadata": {},
   "outputs": [
    {
     "name": "stdout",
     "output_type": "stream",
     "text": [
      "dict_keys([2, 3, 4, 5])\n"
     ]
    }
   ],
   "source": [
    "squares = {2 : 4, 3:9 , 4:16 , 5:25}\n",
    "\n",
    "print(squares.keys())   # return a new view of dictionary keys"
   ]
  },
  {
   "cell_type": "code",
   "execution_count": 29,
   "id": "524f09ce",
   "metadata": {},
   "outputs": [
    {
     "name": "stdout",
     "output_type": "stream",
     "text": [
      "dict_values([4, 9, 16, 25])\n"
     ]
    }
   ],
   "source": [
    "squares = {2 : 4, 3:9 , 4:16 , 5:25}\n",
    "\n",
    "print(squares.values())   # return a new view of dictionary values"
   ]
  },
  {
   "cell_type": "code",
   "execution_count": 30,
   "id": "eaeb629a",
   "metadata": {},
   "outputs": [
    {
     "name": "stdout",
     "output_type": "stream",
     "text": [
      "['__class__', '__class_getitem__', '__contains__', '__delattr__', '__delitem__', '__dir__', '__doc__', '__eq__', '__format__', '__ge__', '__getattribute__', '__getitem__', '__getstate__', '__gt__', '__hash__', '__init__', '__init_subclass__', '__ior__', '__iter__', '__le__', '__len__', '__lt__', '__ne__', '__new__', '__or__', '__reduce__', '__reduce_ex__', '__repr__', '__reversed__', '__ror__', '__setattr__', '__setitem__', '__sizeof__', '__str__', '__subclasshook__', 'clear', 'copy', 'fromkeys', 'get', 'items', 'keys', 'pop', 'popitem', 'setdefault', 'update', 'values']\n"
     ]
    }
   ],
   "source": [
    "# to get all availabe methods and attributes of dictionary\n",
    "\n",
    "d = {}\n",
    "\n",
    "print(dir(d))"
   ]
  },
  {
   "cell_type": "markdown",
   "id": "b052811d",
   "metadata": {},
   "source": [
    "# Dictionary Comprehension"
   ]
  },
  {
   "cell_type": "code",
   "execution_count": 31,
   "id": "ed9c4de8",
   "metadata": {},
   "outputs": [
    {
     "name": "stdout",
     "output_type": "stream",
     "text": [
      "('a', 1)\n",
      "('b', 2)\n",
      "('c', 3)\n",
      "('d', 4)\n"
     ]
    }
   ],
   "source": [
    "d = {'a' : 1 , 'b' : 2 , 'c' : 3 , 'd' : 4}\n",
    "\n",
    "for pair in d.items():\n",
    "    print(pair)"
   ]
  },
  {
   "cell_type": "code",
   "execution_count": 32,
   "id": "7445f473",
   "metadata": {},
   "outputs": [
    {
     "name": "stdout",
     "output_type": "stream",
     "text": [
      "{'c': 3, 'd': 4}\n"
     ]
    }
   ],
   "source": [
    "d = {'a' : 1 , 'b' : 2 , 'c' : 3 , 'd' : 4}\n",
    "\n",
    "new_dict = {k:v for k,v in d.items() if v>2}\n",
    "\n",
    "print(new_dict)"
   ]
  },
  {
   "cell_type": "code",
   "execution_count": null,
   "id": "5b2634a1",
   "metadata": {},
   "outputs": [],
   "source": []
  },
  {
   "cell_type": "code",
   "execution_count": null,
   "id": "c2bb99e3",
   "metadata": {},
   "outputs": [],
   "source": []
  },
  {
   "cell_type": "code",
   "execution_count": null,
   "id": "e31d9861",
   "metadata": {},
   "outputs": [],
   "source": []
  }
 ],
 "metadata": {
  "kernelspec": {
   "display_name": "Python 3 (ipykernel)",
   "language": "python",
   "name": "python3"
  },
  "language_info": {
   "codemirror_mode": {
    "name": "ipython",
    "version": 3
   },
   "file_extension": ".py",
   "mimetype": "text/x-python",
   "name": "python",
   "nbconvert_exporter": "python",
   "pygments_lexer": "ipython3",
   "version": "3.11.5"
  }
 },
 "nbformat": 4,
 "nbformat_minor": 5
}

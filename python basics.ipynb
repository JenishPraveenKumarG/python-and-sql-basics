{
 "cells": [
  {
   "cell_type": "markdown",
   "id": "8e381350",
   "metadata": {},
   "source": [
    "# Python keywords"
   ]
  },
  {
   "cell_type": "code",
   "execution_count": 44,
   "id": "2b8fcf50",
   "metadata": {},
   "outputs": [
    {
     "name": "stdout",
     "output_type": "stream",
     "text": [
      "['False', 'None', 'True', 'and', 'as', 'assert', 'async', 'await', 'break', 'class', 'continue', 'def', 'del', 'elif', 'else', 'except', 'finally', 'for', 'from', 'global', 'if', 'import', 'in', 'is', 'lambda', 'nonlocal', 'not', 'or', 'pass', 'raise', 'return', 'try', 'while', 'with', 'yield']\n"
     ]
    }
   ],
   "source": [
    "import keyword\n",
    "print(keyword.kwlist)"
   ]
  },
  {
   "cell_type": "markdown",
   "id": "80f564fa",
   "metadata": {},
   "source": [
    "# Identifiers"
   ]
  },
  {
   "cell_type": "code",
   "execution_count": 45,
   "id": "9d39d99b",
   "metadata": {},
   "outputs": [
    {
     "name": "stdout",
     "output_type": "stream",
     "text": [
      "10\n",
      "jenish\n"
     ]
    }
   ],
   "source": [
    "a = 10\n",
    "\n",
    "b = \"jenish\"\n",
    "\n",
    "print(a)\n",
    "print(b)"
   ]
  },
  {
   "cell_type": "markdown",
   "id": "ee2fef96",
   "metadata": {},
   "source": [
    "# comments\n",
    "single and multi-line comments"
   ]
  },
  {
   "cell_type": "code",
   "execution_count": 46,
   "id": "ba22b4bf",
   "metadata": {},
   "outputs": [],
   "source": [
    "# this is single line comment"
   ]
  },
  {
   "cell_type": "code",
   "execution_count": 47,
   "id": "d8e4ec25",
   "metadata": {},
   "outputs": [
    {
     "data": {
      "text/plain": [
       "'multi line comment\\nwont get executed\\nso dont worry be happy'"
      ]
     },
     "execution_count": 47,
     "metadata": {},
     "output_type": "execute_result"
    }
   ],
   "source": [
    "\"\"\"multi line comment\n",
    "wont get executed\n",
    "so dont worry be happy\"\"\""
   ]
  },
  {
   "cell_type": "markdown",
   "id": "c3854151",
   "metadata": {},
   "source": [
    "# Python statement"
   ]
  },
  {
   "cell_type": "code",
   "execution_count": 48,
   "id": "c96cd7a4",
   "metadata": {},
   "outputs": [],
   "source": [
    "# single line statement\n",
    "a = 1"
   ]
  },
  {
   "cell_type": "code",
   "execution_count": 49,
   "id": "bf3dbd0a",
   "metadata": {},
   "outputs": [
    {
     "name": "stdout",
     "output_type": "stream",
     "text": [
      "45\n",
      "45\n",
      "10\n",
      "20\n",
      "50\n"
     ]
    }
   ],
   "source": [
    "# multiline statement\n",
    "\n",
    "a = 1+2+3 +\\\n",
    "4+5+6+\\\n",
    "7+8+9\n",
    "\n",
    "print(a)\n",
    "\n",
    "\n",
    "# we can use paranthesis\n",
    "\n",
    "b = (1+2+3+\n",
    "4+5+6+\n",
    "7+8+9)\n",
    "\n",
    "print(b)\n",
    "\n",
    "# another method\n",
    "\n",
    "c = 10; d= 20; e = 50\n",
    "\n",
    "print(c)\n",
    "print(d)\n",
    "print(e)"
   ]
  },
  {
   "cell_type": "markdown",
   "id": "b2ec908c",
   "metadata": {},
   "source": [
    "# varialble Assignment"
   ]
  },
  {
   "cell_type": "code",
   "execution_count": 50,
   "id": "a99e31b5",
   "metadata": {},
   "outputs": [
    {
     "name": "stdout",
     "output_type": "stream",
     "text": [
      "10\n",
      "20\n",
      "jenish\n"
     ]
    }
   ],
   "source": [
    "# using assignment operator \n",
    "\n",
    "a = 10\n",
    "\n",
    "c = \"ml\"\n",
    "\n",
    "# Multiple Assignment\n",
    "\n",
    "d , e , f = 10, 20,\"jenish\"\n",
    "\n",
    "print(d)\n",
    "print(e)\n",
    "print(f)"
   ]
  },
  {
   "cell_type": "markdown",
   "id": "39680c09",
   "metadata": {},
   "source": [
    "# Storage location"
   ]
  },
  {
   "cell_type": "code",
   "execution_count": 51,
   "id": "5b2266d4",
   "metadata": {},
   "outputs": [
    {
     "name": "stdout",
     "output_type": "stream",
     "text": [
      "4422107064\n"
     ]
    }
   ],
   "source": [
    "a = 20\n",
    "\n",
    "print(id(a))   # it will print the address of the variable a"
   ]
  },
  {
   "cell_type": "markdown",
   "id": "795aacfc",
   "metadata": {},
   "source": [
    "# Data Types"
   ]
  },
  {
   "cell_type": "code",
   "execution_count": 52,
   "id": "f07978c7",
   "metadata": {},
   "outputs": [
    {
     "name": "stdout",
     "output_type": "stream",
     "text": [
      "5 the type is <class 'int'>\n"
     ]
    }
   ],
   "source": [
    "a = 5\n",
    "print(a,\"the type is\",type(a))"
   ]
  },
  {
   "cell_type": "code",
   "execution_count": 53,
   "id": "3530ca5c",
   "metadata": {},
   "outputs": [
    {
     "name": "stdout",
     "output_type": "stream",
     "text": [
      "5.2 the type is <class 'float'>\n"
     ]
    }
   ],
   "source": [
    "a = 5.2\n",
    "print(a,\"the type is\",type(a))"
   ]
  },
  {
   "cell_type": "code",
   "execution_count": 54,
   "id": "c8660702",
   "metadata": {},
   "outputs": [
    {
     "name": "stdout",
     "output_type": "stream",
     "text": [
      "(1+2j) the type is <class 'complex'>\n"
     ]
    }
   ],
   "source": [
    "a = 1 + 2j\n",
    "print(a,\"the type is\",type(a))"
   ]
  },
  {
   "cell_type": "markdown",
   "id": "a30cfb0f",
   "metadata": {},
   "source": [
    "# String"
   ]
  },
  {
   "cell_type": "code",
   "execution_count": 55,
   "id": "8ed042f2",
   "metadata": {},
   "outputs": [
    {
     "name": "stdout",
     "output_type": "stream",
     "text": [
      "<class 'str'>\n"
     ]
    }
   ],
   "source": [
    "s = \"My name is Jenish\"\n",
    "print(type(s))"
   ]
  },
  {
   "cell_type": "code",
   "execution_count": 56,
   "id": "7217154c",
   "metadata": {},
   "outputs": [
    {
     "name": "stdout",
     "output_type": "stream",
     "text": [
      "M\n"
     ]
    }
   ],
   "source": [
    "print(s[0])"
   ]
  },
  {
   "cell_type": "code",
   "execution_count": 57,
   "id": "ce703344",
   "metadata": {},
   "outputs": [
    {
     "name": "stdout",
     "output_type": "stream",
     "text": [
      "h\n"
     ]
    }
   ],
   "source": [
    "print(s[-1])"
   ]
  },
  {
   "cell_type": "code",
   "execution_count": 58,
   "id": "3dc749dd",
   "metadata": {},
   "outputs": [
    {
     "data": {
      "text/plain": [
       "'me is Jenish'"
      ]
     },
     "execution_count": 58,
     "metadata": {},
     "output_type": "execute_result"
    }
   ],
   "source": [
    "s[5:]"
   ]
  },
  {
   "cell_type": "markdown",
   "id": "01bcb229",
   "metadata": {},
   "source": [
    "# List []\n",
    "\n",
    "list is an ordered sequence of items. It is mostly used in python and it is very flexible.\n",
    "all elements need not to be same type.\n",
    "declared within [].\n",
    "List is mutable ..... values can be changed"
   ]
  },
  {
   "cell_type": "code",
   "execution_count": 59,
   "id": "360218f6",
   "metadata": {},
   "outputs": [
    {
     "data": {
      "text/plain": [
       "[10, 20, 'jenish']"
      ]
     },
     "execution_count": 59,
     "metadata": {},
     "output_type": "execute_result"
    }
   ],
   "source": [
    "a = [10 , 20 , \"jenish\"]\n",
    "a"
   ]
  },
  {
   "cell_type": "code",
   "execution_count": 60,
   "id": "e877bb37",
   "metadata": {},
   "outputs": [
    {
     "data": {
      "text/plain": [
       "[100, 20, 'jenish']"
      ]
     },
     "execution_count": 60,
     "metadata": {},
     "output_type": "execute_result"
    }
   ],
   "source": [
    "a[0] = 100\n",
    "a              # the first element will be changed"
   ]
  },
  {
   "cell_type": "markdown",
   "id": "c7585d63",
   "metadata": {},
   "source": [
    "# Tuple ()\n",
    "\n",
    "Ordered sequence of items.\n",
    "Tuples are immutable.\n",
    "Tuples cannot be modified\n",
    "declared within ()"
   ]
  },
  {
   "cell_type": "code",
   "execution_count": 61,
   "id": "72bc5351",
   "metadata": {},
   "outputs": [
    {
     "data": {
      "text/plain": [
       "(0, 1, 2, 3, 'A')"
      ]
     },
     "execution_count": 61,
     "metadata": {},
     "output_type": "execute_result"
    }
   ],
   "source": [
    "a = (0,1,2,3,'A')\n",
    "a"
   ]
  },
  {
   "cell_type": "code",
   "execution_count": 62,
   "id": "168bb373",
   "metadata": {
    "scrolled": true
   },
   "outputs": [
    {
     "ename": "TypeError",
     "evalue": "'tuple' object does not support item assignment",
     "output_type": "error",
     "traceback": [
      "\u001b[0;31m---------------------------------------------------------------------------\u001b[0m",
      "\u001b[0;31mTypeError\u001b[0m                                 Traceback (most recent call last)",
      "Cell \u001b[0;32mIn[62], line 1\u001b[0m\n\u001b[0;32m----> 1\u001b[0m a[\u001b[38;5;241m1\u001b[39m] \u001b[38;5;241m=\u001b[39m \u001b[38;5;241m5\u001b[39m\n",
      "\u001b[0;31mTypeError\u001b[0m: 'tuple' object does not support item assignment"
     ]
    }
   ],
   "source": [
    "a[1] = 5 # we cannot change the value of the tuple"
   ]
  },
  {
   "cell_type": "code",
   "execution_count": 63,
   "id": "d11e8b68",
   "metadata": {},
   "outputs": [
    {
     "name": "stdout",
     "output_type": "stream",
     "text": [
      "<class 'tuple'>\n"
     ]
    }
   ],
   "source": [
    "print(type(a))"
   ]
  },
  {
   "cell_type": "markdown",
   "id": "df7d30a6",
   "metadata": {},
   "source": [
    "#  set {}\n",
    "\n",
    "set is unordered collection of unique items\n",
    "set is unorded so we cant access elements in a set"
   ]
  },
  {
   "cell_type": "code",
   "execution_count": 64,
   "id": "67e7f35d",
   "metadata": {},
   "outputs": [
    {
     "data": {
      "text/plain": [
       "{10, 20, 30, 40, 'A'}"
      ]
     },
     "execution_count": 64,
     "metadata": {},
     "output_type": "execute_result"
    }
   ],
   "source": [
    "a = {10,20,30,40,'A'}\n",
    "a"
   ]
  },
  {
   "cell_type": "code",
   "execution_count": 65,
   "id": "3a2c66c9",
   "metadata": {},
   "outputs": [
    {
     "data": {
      "text/plain": [
       "{10, 20, 30, 40, 'A'}"
      ]
     },
     "execution_count": 65,
     "metadata": {},
     "output_type": "execute_result"
    }
   ],
   "source": [
    "a = {10,10,10,20,30,40,'A'}   # only one 10 will be displayed as output\n",
    "a"
   ]
  },
  {
   "cell_type": "code",
   "execution_count": 66,
   "id": "3ed1a37d",
   "metadata": {},
   "outputs": [
    {
     "name": "stdout",
     "output_type": "stream",
     "text": [
      "<class 'set'>\n"
     ]
    }
   ],
   "source": [
    "print(type(a))"
   ]
  },
  {
   "cell_type": "code",
   "execution_count": 67,
   "id": "d6435ede",
   "metadata": {},
   "outputs": [
    {
     "ename": "TypeError",
     "evalue": "'set' object is not subscriptable",
     "output_type": "error",
     "traceback": [
      "\u001b[0;31m---------------------------------------------------------------------------\u001b[0m",
      "\u001b[0;31mTypeError\u001b[0m                                 Traceback (most recent call last)",
      "Cell \u001b[0;32mIn[67], line 1\u001b[0m\n\u001b[0;32m----> 1\u001b[0m a[\u001b[38;5;241m1\u001b[39m]\n\u001b[1;32m      2\u001b[0m a\n",
      "\u001b[0;31mTypeError\u001b[0m: 'set' object is not subscriptable"
     ]
    }
   ],
   "source": [
    "a[1]\n",
    "a"
   ]
  },
  {
   "cell_type": "markdown",
   "id": "2c04a499",
   "metadata": {},
   "source": [
    "# Dictionary\n",
    "\n",
    "unordered collection of key-value pair\n",
    "define within {}"
   ]
  },
  {
   "cell_type": "code",
   "execution_count": 73,
   "id": "6cc0def7",
   "metadata": {},
   "outputs": [
    {
     "name": "stdout",
     "output_type": "stream",
     "text": [
      "apple\n"
     ]
    }
   ],
   "source": [
    "d = {'a' : \"apple\",\n",
    "    'b':\"ball\"}\n",
    "print(d['a'])"
   ]
  },
  {
   "cell_type": "markdown",
   "id": "92febe04",
   "metadata": {},
   "source": [
    "# Conversion between datatypes"
   ]
  },
  {
   "cell_type": "code",
   "execution_count": 74,
   "id": "2ec3135e",
   "metadata": {},
   "outputs": [
    {
     "data": {
      "text/plain": [
       "5.0"
      ]
     },
     "execution_count": 74,
     "metadata": {},
     "output_type": "execute_result"
    }
   ],
   "source": [
    "float(5)"
   ]
  },
  {
   "cell_type": "code",
   "execution_count": 75,
   "id": "a74e9276",
   "metadata": {},
   "outputs": [
    {
     "data": {
      "text/plain": [
       "100"
      ]
     },
     "execution_count": 75,
     "metadata": {},
     "output_type": "execute_result"
    }
   ],
   "source": [
    "int(100.4)"
   ]
  },
  {
   "cell_type": "code",
   "execution_count": 76,
   "id": "14217e5e",
   "metadata": {},
   "outputs": [
    {
     "data": {
      "text/plain": [
       "'20'"
      ]
     },
     "execution_count": 76,
     "metadata": {},
     "output_type": "execute_result"
    }
   ],
   "source": [
    "str(20)"
   ]
  },
  {
   "cell_type": "code",
   "execution_count": 81,
   "id": "9b578138",
   "metadata": {},
   "outputs": [
    {
     "name": "stdout",
     "output_type": "stream",
     "text": [
      "congratulation jenish you just wrote 1000 lines\n"
     ]
    }
   ],
   "source": [
    "a = \"jenish\"\n",
    "b = 1000\n",
    "\n",
    "#print(\"congratulation\" +a+\"you just wrote\"+b+\"lines\") it gives error as we cant add integer in string so we need to change the type\n",
    "\n",
    "print(\"congratulation \" +a+\" you just wrote \"+str(b)+\" lines\")"
   ]
  },
  {
   "cell_type": "markdown",
   "id": "ecfd092f",
   "metadata": {},
   "source": [
    "# Python Output"
   ]
  },
  {
   "cell_type": "code",
   "execution_count": 82,
   "id": "0c67bf33",
   "metadata": {},
   "outputs": [
    {
     "name": "stdout",
     "output_type": "stream",
     "text": [
      "helooo\n"
     ]
    }
   ],
   "source": [
    "print(\"helooo\")"
   ]
  },
  {
   "cell_type": "code",
   "execution_count": 85,
   "id": "3d22bb49",
   "metadata": {},
   "outputs": [
    {
     "name": "stdout",
     "output_type": "stream",
     "text": [
      "the value of a is 10\n",
      "the value of a is 10\n"
     ]
    }
   ],
   "source": [
    "a = 10\n",
    "print(\"the value of a is\",a)\n",
    "print(\"the value of a is \"+str(a))"
   ]
  },
  {
   "cell_type": "code",
   "execution_count": 91,
   "id": "358d7c9a",
   "metadata": {},
   "outputs": [
    {
     "name": "stdout",
     "output_type": "stream",
     "text": [
      "the value of a is 10 and the value of b is 20\n",
      "the value of a is 20 and the value of b is 10\n",
      "Hello Jenish, Good Morning\n"
     ]
    }
   ],
   "source": [
    "# output formating\n",
    "\n",
    "a = 10\n",
    "b = 20\n",
    "print(\"the value of a is {} and the value of b is {}\".format(a,b))\n",
    "\n",
    "#position changing\n",
    "\n",
    "print(\"the value of a is {1} and the value of b is {0}\".format(a,b))\n",
    "\n",
    "# using keyword argument to format the string\n",
    "\n",
    "print(\"Hello {name}, {greeting}\".format(name = \"Jenish\" , greeting = \"Good Morning\"))\n"
   ]
  },
  {
   "cell_type": "markdown",
   "id": "592369f3",
   "metadata": {},
   "source": [
    "# Python Input"
   ]
  },
  {
   "cell_type": "code",
   "execution_count": 92,
   "id": "ac428b90",
   "metadata": {},
   "outputs": [
    {
     "name": "stdout",
     "output_type": "stream",
     "text": [
      "Enter a number :10\n",
      "10\n"
     ]
    }
   ],
   "source": [
    "n1 = int(input(\"Enter a number :\"))\n",
    "print(n1)"
   ]
  },
  {
   "cell_type": "markdown",
   "id": "b098ef11",
   "metadata": {},
   "source": [
    "# Operators\n",
    "\n",
    "1. Arithmetic operator\n",
    "2. Comparison operator\n",
    "3. Logical operator\n",
    "4. Bitwise operator\n",
    "5. Assignment operator\n",
    "6. special operator\n"
   ]
  },
  {
   "cell_type": "code",
   "execution_count": 94,
   "id": "0cbd148c",
   "metadata": {},
   "outputs": [
    {
     "name": "stdout",
     "output_type": "stream",
     "text": [
      "30\n",
      "-10\n",
      "200\n",
      "0.5\n",
      "10\n",
      "0\n",
      "100000000000000000000\n"
     ]
    }
   ],
   "source": [
    "# 1. used to perform mathametical operations\n",
    "\n",
    "a,b = 10,20\n",
    "\n",
    "# add\n",
    "\n",
    "print(a+b)\n",
    "\n",
    "# Sub\n",
    "\n",
    "print(a-b)\n",
    "\n",
    "# mul\n",
    "\n",
    "print(a*b)\n",
    "\n",
    "# div\n",
    "\n",
    "print(a/b)\n",
    "\n",
    "# modulo div\n",
    "\n",
    "print(a%b)\n",
    "\n",
    "# floor div\n",
    "\n",
    "print(a//b)\n",
    "\n",
    "# Exponent\n",
    "\n",
    "print(a**b)"
   ]
  },
  {
   "cell_type": "code",
   "execution_count": 96,
   "id": "51a90bb9",
   "metadata": {},
   "outputs": [
    {
     "name": "stdout",
     "output_type": "stream",
     "text": [
      "True\n",
      "False\n",
      "True\n"
     ]
    }
   ],
   "source": [
    "#2. used to compare the values returns true or false , <,>,<=,>=,==,!=\n",
    "\n",
    "a,b = 10,20\n",
    "\n",
    "print(a<b)\n",
    "print(a == b)\n",
    "print(a!=b)"
   ]
  },
  {
   "cell_type": "code",
   "execution_count": 98,
   "id": "be0174a3",
   "metadata": {},
   "outputs": [
    {
     "name": "stdout",
     "output_type": "stream",
     "text": [
      "False\n",
      "True\n",
      "True\n"
     ]
    }
   ],
   "source": [
    "#3. logical operators are \"and,or,not\"\n",
    "\n",
    "a, b = True, False\n",
    "\n",
    "print(a and b)\n",
    "print(a or b)\n",
    "print(not b)"
   ]
  },
  {
   "cell_type": "code",
   "execution_count": 99,
   "id": "169487de",
   "metadata": {},
   "outputs": [
    {
     "name": "stdout",
     "output_type": "stream",
     "text": [
      "0\n",
      "14\n",
      "-5\n",
      "2\n"
     ]
    }
   ],
   "source": [
    "#4. &, |, ~, ^, >>, << are bitwise operators\n",
    "\n",
    "a,b = 10,4\n",
    "\n",
    "print(a&b)\n",
    "print(a|b)\n",
    "print(~b)\n",
    "print(a>>2)"
   ]
  },
  {
   "cell_type": "code",
   "execution_count": 101,
   "id": "5d52f5b5",
   "metadata": {},
   "outputs": [
    {
     "data": {
      "text/plain": [
       "10"
      ]
     },
     "execution_count": 101,
     "metadata": {},
     "output_type": "execute_result"
    }
   ],
   "source": [
    "#5. assignment operators\n",
    "\n",
    "a = 10\n",
    "\n",
    "a+=10\n",
    "\n",
    "a-=10\n",
    "\n",
    "a"
   ]
  },
  {
   "cell_type": "code",
   "execution_count": null,
   "id": "af1d5309",
   "metadata": {},
   "outputs": [],
   "source": [
    "#6. Special operators"
   ]
  },
  {
   "cell_type": "markdown",
   "id": "e7f398e4",
   "metadata": {},
   "source": [
    "# is and is not"
   ]
  },
  {
   "cell_type": "code",
   "execution_count": 102,
   "id": "5dd3a008",
   "metadata": {},
   "outputs": [
    {
     "name": "stdout",
     "output_type": "stream",
     "text": [
      "True\n"
     ]
    }
   ],
   "source": [
    "a = 5\n",
    "b = 5\n",
    "\n",
    "print(a is b)"
   ]
  },
  {
   "cell_type": "code",
   "execution_count": 103,
   "id": "cc56f697",
   "metadata": {},
   "outputs": [
    {
     "name": "stdout",
     "output_type": "stream",
     "text": [
      "False\n"
     ]
    }
   ],
   "source": [
    "l1 = [1,2,3]\n",
    "l2 = [1,2,3]\n",
    "\n",
    "print(l1 is l2)"
   ]
  },
  {
   "cell_type": "code",
   "execution_count": 104,
   "id": "4e74c115",
   "metadata": {},
   "outputs": [
    {
     "name": "stdout",
     "output_type": "stream",
     "text": [
      "False\n"
     ]
    }
   ],
   "source": [
    "l1 = \"Jenish\"\n",
    "l2 = \"Jenish\"\n",
    "\n",
    "print(l1 is not l2)"
   ]
  },
  {
   "cell_type": "code",
   "execution_count": 106,
   "id": "9db6e7d7",
   "metadata": {},
   "outputs": [
    {
     "name": "stdout",
     "output_type": "stream",
     "text": [
      "True\n",
      "False\n"
     ]
    }
   ],
   "source": [
    "#7. membership operator\n",
    "\n",
    "l1 = [1,2,3,4]\n",
    "\n",
    "print(1 in l1)   #true\n",
    "\n",
    "print(7 in l1)   #false"
   ]
  },
  {
   "cell_type": "code",
   "execution_count": null,
   "id": "009168d8",
   "metadata": {},
   "outputs": [],
   "source": []
  },
  {
   "cell_type": "code",
   "execution_count": null,
   "id": "fd4207a0",
   "metadata": {},
   "outputs": [],
   "source": []
  }
 ],
 "metadata": {
  "kernelspec": {
   "display_name": "Python 3 (ipykernel)",
   "language": "python",
   "name": "python3"
  },
  "language_info": {
   "codemirror_mode": {
    "name": "ipython",
    "version": 3
   },
   "file_extension": ".py",
   "mimetype": "text/x-python",
   "name": "python",
   "nbconvert_exporter": "python",
   "pygments_lexer": "ipython3",
   "version": "3.11.5"
  }
 },
 "nbformat": 4,
 "nbformat_minor": 5
}

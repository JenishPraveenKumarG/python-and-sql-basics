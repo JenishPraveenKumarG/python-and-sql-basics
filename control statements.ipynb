{
 "cells": [
  {
   "cell_type": "markdown",
   "id": "0870534f",
   "metadata": {},
   "source": [
    "# Python control statements"
   ]
  },
  {
   "cell_type": "markdown",
   "id": "f102a0cc",
   "metadata": {},
   "source": [
    "# if \n",
    "\n",
    "if test_expression:\n",
    "    statement (s)"
   ]
  },
  {
   "cell_type": "code",
   "execution_count": 1,
   "id": "d0d73ff9",
   "metadata": {},
   "outputs": [
    {
     "name": "stdout",
     "output_type": "stream",
     "text": [
      "The number is positive\n",
      "yeah boy\n"
     ]
    }
   ],
   "source": [
    "# code to check a number is positive or not\n",
    "\n",
    "num = 10\n",
    "\n",
    "if num > 0:\n",
    "    print(\"The number is positive\")\n",
    "print(\"yeah boy\")"
   ]
  },
  {
   "cell_type": "markdown",
   "id": "724eb2d7",
   "metadata": {},
   "source": [
    "# If else\n",
    "\n",
    ">if test_exp: \n",
    "    >>statement(s1)\n",
    ">else:\n",
    "    >>statement(s2)"
   ]
  },
  {
   "cell_type": "code",
   "execution_count": 2,
   "id": "52028e80",
   "metadata": {},
   "outputs": [
    {
     "name": "stdout",
     "output_type": "stream",
     "text": [
      "The number is positive\n"
     ]
    }
   ],
   "source": [
    "num = 10\n",
    "\n",
    "if num > 0:\n",
    "    print(\"The number is positive\")\n",
    "else:\n",
    "    print(\"The number is negative\")"
   ]
  },
  {
   "cell_type": "markdown",
   "id": "264deb05",
   "metadata": {},
   "source": [
    "# if elif else\n",
    "\n",
    "if test_exp1:\n",
    "    statement(s1)\n",
    "elif test_exp2:\n",
    "    statement(s2)\n",
    "else:\n",
    "    statement(s3)"
   ]
  },
  {
   "cell_type": "code",
   "execution_count": 3,
   "id": "c2bd79d3",
   "metadata": {},
   "outputs": [
    {
     "name": "stdout",
     "output_type": "stream",
     "text": [
      "Positive\n"
     ]
    }
   ],
   "source": [
    "num = 10\n",
    "\n",
    "if num > 0:\n",
    "    print(\"Positive\")\n",
    "elif num == 0:\n",
    "    print(\"zero\")\n",
    "else:\n",
    "    print(\"negative\")"
   ]
  },
  {
   "cell_type": "markdown",
   "id": "5d733de2",
   "metadata": {},
   "source": [
    "# Nested if"
   ]
  },
  {
   "cell_type": "code",
   "execution_count": 4,
   "id": "d2ca88b9",
   "metadata": {},
   "outputs": [
    {
     "name": "stdout",
     "output_type": "stream",
     "text": [
      "zero\n"
     ]
    }
   ],
   "source": [
    "num = 0\n",
    "\n",
    "if num>=0:\n",
    "    if num == 0:\n",
    "        print(\"zero\")\n",
    "    else:\n",
    "        print(\"Number is positive\")"
   ]
  },
  {
   "cell_type": "markdown",
   "id": "89c370b5",
   "metadata": {},
   "source": [
    "# Python programming to find the largest element among three numbers"
   ]
  },
  {
   "cell_type": "code",
   "execution_count": 5,
   "id": "c68c975f",
   "metadata": {},
   "outputs": [
    {
     "name": "stdout",
     "output_type": "stream",
     "text": [
      "10\n",
      "20\n",
      "30\n",
      "greates number is 30\n"
     ]
    }
   ],
   "source": [
    "num1 = int(input())\n",
    "num2 = int(input())\n",
    "num3 = int(input())\n",
    "\n",
    "if num1 > num2 and num1 > num3:\n",
    "    print(\"greates number is {}\".format(num1))\n",
    "elif num2 > num1 and num2 > num3:\n",
    "    print(\"greates number is {}\".format(num2))\n",
    "else:\n",
    "    print(\"greates number is {}\".format(num3))"
   ]
  },
  {
   "cell_type": "markdown",
   "id": "4e6e053f",
   "metadata": {},
   "source": [
    "# While loop\n",
    "\n",
    "while test_exp:\n",
    "    body of loop"
   ]
  },
  {
   "cell_type": "code",
   "execution_count": 6,
   "id": "c53afab7",
   "metadata": {},
   "outputs": [
    {
     "name": "stdout",
     "output_type": "stream",
     "text": [
      "40320\n"
     ]
    }
   ],
   "source": [
    "arr = [1,2,3,4,5,6,7,8]\n",
    "i = 0\n",
    "product = 1\n",
    "while(i<len(arr)):\n",
    "    product = product*arr[i]\n",
    "    i = i+1\n",
    "print(product)"
   ]
  },
  {
   "cell_type": "markdown",
   "id": "1b53d059",
   "metadata": {},
   "source": [
    "# While with else"
   ]
  },
  {
   "cell_type": "code",
   "execution_count": 7,
   "id": "249a7ef5",
   "metadata": {},
   "outputs": [
    {
     "name": "stdout",
     "output_type": "stream",
     "text": [
      "1\n",
      "2\n",
      "3\n",
      "4\n",
      "5\n",
      "6\n",
      "7\n",
      "8\n",
      "9\n",
      "No elements left in the array\n"
     ]
    }
   ],
   "source": [
    "arr = [1,2,3,4,5,6,7,8,9]\n",
    "i  = 0\n",
    "\n",
    "while(i<len(arr)):\n",
    "    print(arr[i])\n",
    "    i = i+1\n",
    "else:\n",
    "    print(\"No elements left in the array\")"
   ]
  },
  {
   "cell_type": "markdown",
   "id": "ea98ec8c",
   "metadata": {},
   "source": [
    "# Python code to check a number is prime or not"
   ]
  },
  {
   "cell_type": "code",
   "execution_count": 8,
   "id": "97ac53d0",
   "metadata": {},
   "outputs": [
    {
     "name": "stdout",
     "output_type": "stream",
     "text": [
      "10\n",
      "The number 10 is not a prime number\n"
     ]
    }
   ],
   "source": [
    "num = int(input())\n",
    "\n",
    "i = 2\n",
    "count = 0\n",
    "while(i<num):\n",
    "    if(num%i == 0):\n",
    "        count = count+1\n",
    "    i = i+1\n",
    "if count == 0:\n",
    "    print(\"The numbe {} is a prime number\".format(num))\n",
    "else:\n",
    "    print('The number {} is not a prime number'.format(num))"
   ]
  },
  {
   "cell_type": "markdown",
   "id": "51b0828b",
   "metadata": {},
   "source": [
    "# For loop\n",
    "\n",
    "for element in x:\n",
    "    body "
   ]
  },
  {
   "cell_type": "code",
   "execution_count": 9,
   "id": "446faa42",
   "metadata": {},
   "outputs": [
    {
     "name": "stdout",
     "output_type": "stream",
     "text": [
      "40320\n"
     ]
    }
   ],
   "source": [
    "arr = [1,2,3,4,5,6,7,8]\n",
    "\n",
    "product = 1\n",
    "\n",
    "for ele in arr:\n",
    "    product = product * ele\n",
    "print(product)"
   ]
  },
  {
   "cell_type": "markdown",
   "id": "86e614ad",
   "metadata": {},
   "source": [
    "# Range() function "
   ]
  },
  {
   "cell_type": "code",
   "execution_count": 10,
   "id": "5273aaaa",
   "metadata": {},
   "outputs": [
    {
     "name": "stdout",
     "output_type": "stream",
     "text": [
      "0\n",
      "2\n",
      "4\n",
      "6\n",
      "8\n"
     ]
    }
   ],
   "source": [
    "for i in range(0,10,2):\n",
    "    print(i)"
   ]
  },
  {
   "cell_type": "code",
   "execution_count": 11,
   "id": "bd24e01a",
   "metadata": {},
   "outputs": [
    {
     "name": "stdout",
     "output_type": "stream",
     "text": [
      "Jenish\n",
      "Praveen\n",
      "Kumar\n",
      "G\n"
     ]
    }
   ],
   "source": [
    "name = [\"Jenish\",\"Praveen\",\"Kumar\",'G']\n",
    "\n",
    "for index in range(len(name)):\n",
    "    print(name[index])"
   ]
  },
  {
   "cell_type": "code",
   "execution_count": 12,
   "id": "b25fa2de",
   "metadata": {},
   "outputs": [
    {
     "name": "stdout",
     "output_type": "stream",
     "text": [
      "1\n",
      "2\n",
      "3\n",
      "4\n",
      "No items left\n"
     ]
    }
   ],
   "source": [
    "# for with else\n",
    "\n",
    "n = [1,2,3,4]\n",
    "\n",
    "for i in range(len(n)):\n",
    "    print(n[i])\n",
    "else :\n",
    "    print(\"No items left\")"
   ]
  },
  {
   "cell_type": "markdown",
   "id": "5da8b10f",
   "metadata": {},
   "source": [
    "# Python program to find all prime numbers within that range given"
   ]
  },
  {
   "cell_type": "code",
   "execution_count": 19,
   "id": "1c29cfdd",
   "metadata": {},
   "outputs": [
    {
     "name": "stdout",
     "output_type": "stream",
     "text": [
      "11\n",
      "13\n",
      "17\n",
      "19\n",
      "23\n",
      "29\n",
      "31\n",
      "37\n",
      "41\n",
      "43\n",
      "47\n"
     ]
    }
   ],
   "source": [
    "n1 = 10\n",
    "n2 = 50\n",
    "\n",
    "\n",
    "for num in range(n1,n2):\n",
    "    \n",
    "    isDivisible = False\n",
    "    for index in range(2,num):\n",
    "        if(num % index == 0):\n",
    "            isDivisible = True\n",
    "    if isDivisible == False:\n",
    "        print(num)\n"
   ]
  },
  {
   "cell_type": "code",
   "execution_count": null,
   "id": "0e50db88",
   "metadata": {},
   "outputs": [],
   "source": []
  },
  {
   "cell_type": "code",
   "execution_count": null,
   "id": "9b2534d3",
   "metadata": {},
   "outputs": [],
   "source": []
  },
  {
   "cell_type": "code",
   "execution_count": null,
   "id": "91927aee",
   "metadata": {},
   "outputs": [],
   "source": []
  },
  {
   "cell_type": "code",
   "execution_count": null,
   "id": "79d29a23",
   "metadata": {},
   "outputs": [],
   "source": []
  },
  {
   "cell_type": "code",
   "execution_count": null,
   "id": "2f468885",
   "metadata": {},
   "outputs": [],
   "source": []
  },
  {
   "cell_type": "code",
   "execution_count": null,
   "id": "186f433f",
   "metadata": {},
   "outputs": [],
   "source": []
  },
  {
   "cell_type": "code",
   "execution_count": null,
   "id": "3de23f5e",
   "metadata": {},
   "outputs": [],
   "source": []
  }
 ],
 "metadata": {
  "kernelspec": {
   "display_name": "Python 3 (ipykernel)",
   "language": "python",
   "name": "python3"
  },
  "language_info": {
   "codemirror_mode": {
    "name": "ipython",
    "version": 3
   },
   "file_extension": ".py",
   "mimetype": "text/x-python",
   "name": "python",
   "nbconvert_exporter": "python",
   "pygments_lexer": "ipython3",
   "version": "3.11.5"
  }
 },
 "nbformat": 4,
 "nbformat_minor": 5
}

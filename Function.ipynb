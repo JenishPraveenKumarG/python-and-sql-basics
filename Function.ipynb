{
 "cells": [
  {
   "cell_type": "markdown",
   "id": "b89558a6",
   "metadata": {},
   "source": [
    "# Python functions"
   ]
  },
  {
   "cell_type": "code",
   "execution_count": 1,
   "id": "ab34b60a",
   "metadata": {},
   "outputs": [
    {
     "data": {
      "text/plain": [
       "'def function():\\n    block of statement'"
      ]
     },
     "execution_count": 1,
     "metadata": {},
     "output_type": "execute_result"
    }
   ],
   "source": [
    "'''def function():\n",
    "    block of statement'''"
   ]
  },
  {
   "cell_type": "code",
   "execution_count": 7,
   "id": "8ff58a26",
   "metadata": {},
   "outputs": [
    {
     "name": "stdout",
     "output_type": "stream",
     "text": [
      "hello jenish\n"
     ]
    }
   ],
   "source": [
    "def print_name(name):\n",
    "    '''this function prints the name'''       # this is known as doc string\n",
    "    \n",
    "    \n",
    "    print (\"hello\" , name)\n",
    "print_name(\"jenish\")\n",
    "\n",
    "\n",
    "    "
   ]
  },
  {
   "cell_type": "markdown",
   "id": "b8c75be2",
   "metadata": {},
   "source": [
    "# doc string"
   ]
  },
  {
   "cell_type": "code",
   "execution_count": 8,
   "id": "7403cf6d",
   "metadata": {},
   "outputs": [
    {
     "name": "stdout",
     "output_type": "stream",
     "text": [
      "this function prints the name\n"
     ]
    }
   ],
   "source": [
    "print(print_name.__doc__)"
   ]
  },
  {
   "cell_type": "markdown",
   "id": "aa863726",
   "metadata": {},
   "source": [
    "# return stamenet"
   ]
  },
  {
   "cell_type": "code",
   "execution_count": 11,
   "id": "f9fc7954",
   "metadata": {},
   "outputs": [
    {
     "name": "stdout",
     "output_type": "stream",
     "text": [
      "15\n"
     ]
    }
   ],
   "source": [
    "def tot_sum(lst):\n",
    "    '''This returns the sum of the list elements'''\n",
    "    _sum = 0\n",
    "    for num in lst:\n",
    "        _sum += num\n",
    "    return _sum\n",
    "\n",
    "\n",
    "lst = [1,2,3,4,5]\n",
    "print(tot_sum(lst))"
   ]
  },
  {
   "cell_type": "markdown",
   "id": "0d98206a",
   "metadata": {},
   "source": [
    "# Scope and life time of variable"
   ]
  },
  {
   "cell_type": "code",
   "execution_count": 12,
   "id": "2f59e20d",
   "metadata": {},
   "outputs": [
    {
     "name": "stdout",
     "output_type": "stream",
     "text": [
      "This is local variable\n",
      "this is a global variable\n",
      "this is a global variable\n"
     ]
    },
    {
     "ename": "NameError",
     "evalue": "name 'local_var' is not defined",
     "output_type": "error",
     "traceback": [
      "\u001b[0;31m---------------------------------------------------------------------------\u001b[0m",
      "\u001b[0;31mNameError\u001b[0m                                 Traceback (most recent call last)",
      "Cell \u001b[0;32mIn[12], line 17\u001b[0m\n\u001b[1;32m     13\u001b[0m test_life_time()\n\u001b[1;32m     15\u001b[0m \u001b[38;5;28mprint\u001b[39m(global_var)\n\u001b[0;32m---> 17\u001b[0m \u001b[38;5;28mprint\u001b[39m(local_var)\n",
      "\u001b[0;31mNameError\u001b[0m: name 'local_var' is not defined"
     ]
    }
   ],
   "source": [
    "global_var = \"this is a global variable\"\n",
    "\n",
    "def test_life_time():\n",
    "    '''It is function to test the variable'''\n",
    "    \n",
    "    local_var = \"This is local variable\"\n",
    "    \n",
    "    print(local_var)\n",
    "    print(global_var)\n",
    "\n",
    "# calling function\n",
    "\n",
    "test_life_time()\n",
    "\n",
    "print(global_var)\n",
    "\n",
    "print(local_var)"
   ]
  },
  {
   "cell_type": "markdown",
   "id": "490626b4",
   "metadata": {},
   "source": [
    "# python program to find lcm and hcf"
   ]
  },
  {
   "cell_type": "code",
   "execution_count": 13,
   "id": "28c17405",
   "metadata": {},
   "outputs": [
    {
     "name": "stdout",
     "output_type": "stream",
     "text": [
      "2\n"
     ]
    }
   ],
   "source": [
    "def hcf(a , b):\n",
    "    '''computing hcf of two numbers'''\n",
    "    \n",
    "    smaller = b if a > b else a\n",
    "    \n",
    "    hc = 1\n",
    "    for i in range(1,smaller+1):\n",
    "        if(a%i == 0) and(b%i == 0):\n",
    "            hc = i\n",
    "    return hc\n",
    "\n",
    "num1 = 98\n",
    "num2 = 78\n",
    "\n",
    "\n",
    "print(hcf(num1,num2))"
   ]
  },
  {
   "cell_type": "markdown",
   "id": "a9f4c6df",
   "metadata": {},
   "source": [
    "# Types of function\n",
    "- inbuilt <br>\n",
    "- user defined"
   ]
  },
  {
   "cell_type": "markdown",
   "id": "227c6424",
   "metadata": {},
   "source": [
    "# Built-in functions"
   ]
  },
  {
   "cell_type": "markdown",
   "id": "b40229f8",
   "metadata": {},
   "source": [
    "# 1. abs()"
   ]
  },
  {
   "cell_type": "code",
   "execution_count": 15,
   "id": "dcf8e89b",
   "metadata": {},
   "outputs": [
    {
     "name": "stdout",
     "output_type": "stream",
     "text": [
      "2\n"
     ]
    }
   ],
   "source": [
    "# to find the absolute values\n",
    "\n",
    "print(abs(-2))"
   ]
  },
  {
   "cell_type": "markdown",
   "id": "f9a76840",
   "metadata": {},
   "source": [
    "# all()\n",
    "\n",
    "- return true if elements are iterable and returns false if not"
   ]
  },
  {
   "cell_type": "code",
   "execution_count": 17,
   "id": "1993ee3c",
   "metadata": {},
   "outputs": [
    {
     "name": "stdout",
     "output_type": "stream",
     "text": [
      "True\n",
      "False\n"
     ]
    }
   ],
   "source": [
    "a = [1,2,3,4]\n",
    "\n",
    "print(all(a))\n",
    "\n",
    "\n",
    "a = [0,1,2]   # since 0\n",
    "\n",
    "print(all(a))"
   ]
  },
  {
   "cell_type": "markdown",
   "id": "e3988b26",
   "metadata": {},
   "source": [
    "# dir()"
   ]
  },
  {
   "cell_type": "code",
   "execution_count": 18,
   "id": "764b5602",
   "metadata": {},
   "outputs": [
    {
     "data": {
      "text/plain": [
       "['__add__',\n",
       " '__class__',\n",
       " '__class_getitem__',\n",
       " '__contains__',\n",
       " '__delattr__',\n",
       " '__delitem__',\n",
       " '__dir__',\n",
       " '__doc__',\n",
       " '__eq__',\n",
       " '__format__',\n",
       " '__ge__',\n",
       " '__getattribute__',\n",
       " '__getitem__',\n",
       " '__getstate__',\n",
       " '__gt__',\n",
       " '__hash__',\n",
       " '__iadd__',\n",
       " '__imul__',\n",
       " '__init__',\n",
       " '__init_subclass__',\n",
       " '__iter__',\n",
       " '__le__',\n",
       " '__len__',\n",
       " '__lt__',\n",
       " '__mul__',\n",
       " '__ne__',\n",
       " '__new__',\n",
       " '__reduce__',\n",
       " '__reduce_ex__',\n",
       " '__repr__',\n",
       " '__reversed__',\n",
       " '__rmul__',\n",
       " '__setattr__',\n",
       " '__setitem__',\n",
       " '__sizeof__',\n",
       " '__str__',\n",
       " '__subclasshook__',\n",
       " 'append',\n",
       " 'clear',\n",
       " 'copy',\n",
       " 'count',\n",
       " 'extend',\n",
       " 'index',\n",
       " 'insert',\n",
       " 'pop',\n",
       " 'remove',\n",
       " 'reverse',\n",
       " 'sort']"
      ]
     },
     "execution_count": 18,
     "metadata": {},
     "output_type": "execute_result"
    }
   ],
   "source": [
    "number = [1,2,3]\n",
    "\n",
    "dir(number)"
   ]
  },
  {
   "cell_type": "markdown",
   "id": "95c6f56a",
   "metadata": {},
   "source": [
    "# div mod()\n",
    "\n",
    "- it will return quotient and remainder between tuples"
   ]
  },
  {
   "cell_type": "code",
   "execution_count": 19,
   "id": "6aa54287",
   "metadata": {},
   "outputs": [
    {
     "name": "stdout",
     "output_type": "stream",
     "text": [
      "(4, 1)\n"
     ]
    }
   ],
   "source": [
    "print(divmod(9 , 2))"
   ]
  },
  {
   "cell_type": "markdown",
   "id": "a1afacef",
   "metadata": {},
   "source": [
    "# enumerate()\n",
    "\n",
    "- it returns pair of numbers and index as output"
   ]
  },
  {
   "cell_type": "code",
   "execution_count": 21,
   "id": "21261feb",
   "metadata": {},
   "outputs": [
    {
     "name": "stdout",
     "output_type": "stream",
     "text": [
      "0 1\n",
      "1 2\n",
      "2 3\n",
      "3 4\n"
     ]
    }
   ],
   "source": [
    "a = [1,2,3,4]\n",
    "\n",
    "for index, num in enumerate(a):\n",
    "    print(index,num)"
   ]
  },
  {
   "cell_type": "markdown",
   "id": "6d41aac5",
   "metadata": {},
   "source": [
    "# filter()"
   ]
  },
  {
   "cell_type": "code",
   "execution_count": 23,
   "id": "8b7f9ac9",
   "metadata": {},
   "outputs": [
    {
     "name": "stdout",
     "output_type": "stream",
     "text": [
      "[-10, -9, -8, -7, -6, -5, -4, -3, -2, -1, 0, 1, 2, 3, 4, 5, 6, 7, 8, 9]\n",
      "[1, 2, 3, 4, 5, 6, 7, 8, 9]\n"
     ]
    }
   ],
   "source": [
    "def find_pos(num):\n",
    "    if num > 0:\n",
    "        return num\n",
    "num_list = range(-10,10)\n",
    "\n",
    "print(list(num_list))\n",
    "\n",
    "\n",
    "pos = list(filter(find_pos,num_list))\n",
    "\n",
    "print(pos)"
   ]
  },
  {
   "cell_type": "markdown",
   "id": "e7a4fd54",
   "metadata": {},
   "source": [
    "# isinstance()"
   ]
  },
  {
   "cell_type": "code",
   "execution_count": 27,
   "id": "797f52b4",
   "metadata": {},
   "outputs": [
    {
     "name": "stdout",
     "output_type": "stream",
     "text": [
      "True\n"
     ]
    }
   ],
   "source": [
    "lst = [1,2,3,4,5,6,7]\n",
    "\n",
    "\n",
    "print(isinstance(lst, list))"
   ]
  },
  {
   "cell_type": "markdown",
   "id": "e60640d4",
   "metadata": {},
   "source": [
    "# map()"
   ]
  },
  {
   "cell_type": "code",
   "execution_count": 28,
   "id": "97f6f4c2",
   "metadata": {},
   "outputs": [
    {
     "name": "stdout",
     "output_type": "stream",
     "text": [
      "[1, 4, 9, 16]\n"
     ]
    }
   ],
   "source": [
    "# without map function to find the square of number\n",
    "\n",
    "\n",
    "num = [1,2,3,4]\n",
    "\n",
    "square = []\n",
    "\n",
    "for i in num:\n",
    "    square.append(i**2)\n",
    "print(square)"
   ]
  },
  {
   "cell_type": "code",
   "execution_count": 29,
   "id": "c0ff2ea4",
   "metadata": {},
   "outputs": [
    {
     "name": "stdout",
     "output_type": "stream",
     "text": [
      "[1, 4, 9, 16]\n"
     ]
    }
   ],
   "source": [
    "# with ummap\n",
    "\n",
    "num = [1,2,3,4]\n",
    "\n",
    "def power(num):\n",
    "    return num**2\n",
    "\n",
    "square = list(map(power , num))\n",
    "\n",
    "print(square)"
   ]
  },
  {
   "cell_type": "markdown",
   "id": "7d89937d",
   "metadata": {},
   "source": [
    "# Function arguments"
   ]
  },
  {
   "cell_type": "code",
   "execution_count": 2,
   "id": "9a6358bb",
   "metadata": {},
   "outputs": [
    {
     "name": "stdout",
     "output_type": "stream",
     "text": [
      "hello Jenish this is the good morning\n"
     ]
    }
   ],
   "source": [
    "def greet(name , msg):\n",
    "    print(\"hello {} this is the {}\".format(name , msg))\n",
    "greet('Jenish' , \"How are yoy brother\")"
   ]
  },
  {
   "cell_type": "code",
   "execution_count": 3,
   "id": "88c21cb8",
   "metadata": {},
   "outputs": [
    {
     "name": "stdout",
     "output_type": "stream",
     "text": [
      "hello Jenish this is the Good morning\n"
     ]
    }
   ],
   "source": [
    "# another method\n",
    "\n",
    "def greet(name , msg = \"Good morning\"):      # default arguments\n",
    "    print(\"hello {} this is the {}\".format(name , msg))\n",
    "greet('Jenish')"
   ]
  },
  {
   "cell_type": "markdown",
   "id": "454c97b2",
   "metadata": {},
   "source": [
    "# Keyword arguments"
   ]
  },
  {
   "cell_type": "code",
   "execution_count": 5,
   "id": "ce74c8e5",
   "metadata": {},
   "outputs": [
    {
     "name": "stdout",
     "output_type": "stream",
     "text": [
      "hello Jenish this is the How are yoy brother\n"
     ]
    }
   ],
   "source": [
    "def greet(**kwargs):\n",
    "    print(\"hello {} this is the {}\".format(kwargs['name'] , kwargs['msg']))\n",
    "greet(name = 'Jenish' , msg = \"How are yoy brother\")\n",
    "\n",
    "\n",
    "\\\n",
    "# it is actually key value pair"
   ]
  },
  {
   "cell_type": "markdown",
   "id": "f134332b",
   "metadata": {},
   "source": [
    "# Arbitary arguments"
   ]
  },
  {
   "cell_type": "code",
   "execution_count": 6,
   "id": "08c8fab2",
   "metadata": {},
   "outputs": [
    {
     "name": "stdout",
     "output_type": "stream",
     "text": [
      "Jenish\n",
      "bala\n",
      "Murali\n"
     ]
    }
   ],
   "source": [
    "# some times we dont know the number os arguments so we use arbitary argument\n",
    "\n",
    "\n",
    "\n",
    "def greet(*names):\n",
    "    for name in names:\n",
    "        print(name)\n",
    "    \n",
    "greet('Jenish' , \"bala\" , \"Murali\")"
   ]
  },
  {
   "cell_type": "markdown",
   "id": "e876f48a",
   "metadata": {},
   "source": [
    "# Recurssion\n",
    "- function that calls itself is known as recursion"
   ]
  },
  {
   "cell_type": "code",
   "execution_count": 11,
   "id": "7cdab0cd",
   "metadata": {},
   "outputs": [
    {
     "name": "stdout",
     "output_type": "stream",
     "text": [
      "120\n"
     ]
    }
   ],
   "source": [
    "def fact(num):\n",
    "    return 1 if num == 1 else (num*fact(num-1))\n",
    "num = 5\n",
    "print(fact(num))"
   ]
  },
  {
   "cell_type": "markdown",
   "id": "73d4c14c",
   "metadata": {},
   "source": [
    "# python code to print the fibonacci series"
   ]
  },
  {
   "cell_type": "code",
   "execution_count": 19,
   "id": "3b6412d2",
   "metadata": {},
   "outputs": [
    {
     "name": "stdout",
     "output_type": "stream",
     "text": [
      "0\n",
      "1\n",
      "1\n",
      "2\n",
      "3\n",
      "5\n",
      "8\n",
      "13\n",
      "21\n",
      "34\n"
     ]
    }
   ],
   "source": [
    "def fibo(num):\n",
    "    '''This is a code to find the fibonacci of a number'''\n",
    "    \n",
    "    return num if num<=1 else (fibo(num-1) + fibo(num-2))\n",
    "\n",
    "terms = 10\n",
    "for num in range(terms):\n",
    "    print(fibo(num))"
   ]
  },
  {
   "cell_type": "markdown",
   "id": "fce69f2b",
   "metadata": {},
   "source": [
    "# Anonyms function / Lambda function\n",
    "\n",
    "- function wthout a name or tag is known as lambda function"
   ]
  },
  {
   "cell_type": "code",
   "execution_count": 21,
   "id": "29bd9f07",
   "metadata": {},
   "outputs": [
    {
     "name": "stdout",
     "output_type": "stream",
     "text": [
      "9\n"
     ]
    }
   ],
   "source": [
    "# lambda argument : expression\n",
    "\n",
    "double = lambda x : x**2\n",
    "\n",
    "print(double(3))"
   ]
  },
  {
   "cell_type": "code",
   "execution_count": 22,
   "id": "a561aacb",
   "metadata": {},
   "outputs": [
    {
     "data": {
      "text/plain": [
       "9"
      ]
     },
     "execution_count": 22,
     "metadata": {},
     "output_type": "execute_result"
    }
   ],
   "source": [
    "# this is without lambda\n",
    "\n",
    "def double(n):\n",
    "    return n**2\n",
    "\n",
    "double(3)"
   ]
  },
  {
   "cell_type": "code",
   "execution_count": 24,
   "id": "0141d564",
   "metadata": {},
   "outputs": [
    {
     "name": "stdout",
     "output_type": "stream",
     "text": [
      "[2, 4, 6, 8]\n"
     ]
    }
   ],
   "source": [
    "# examples with using filter()\n",
    "\n",
    "\n",
    "lst = [1,2,3,4,5,6,7,8]\n",
    "\n",
    "even_lst = list(filter(lambda x : x % 2 == 0 , lst))\n",
    "\n",
    "print(even_lst)"
   ]
  },
  {
   "cell_type": "code",
   "execution_count": 27,
   "id": "8a3c2f2d",
   "metadata": {},
   "outputs": [
    {
     "name": "stdout",
     "output_type": "stream",
     "text": [
      "[1, 4, 9, 16, 25, 36, 49, 64]\n"
     ]
    }
   ],
   "source": [
    "# example with using in map()\n",
    "\n",
    "st = [1,2,3,4,5,6,7,8]\n",
    "\n",
    "even_lst = list(map(lambda x : x**2 , lst))   # is we use x%2 we get output as true or false\n",
    "\n",
    "print(even_lst)"
   ]
  },
  {
   "cell_type": "code",
   "execution_count": null,
   "id": "ceafb94e",
   "metadata": {},
   "outputs": [],
   "source": []
  },
  {
   "cell_type": "code",
   "execution_count": null,
   "id": "240ebb25",
   "metadata": {},
   "outputs": [],
   "source": []
  }
 ],
 "metadata": {
  "kernelspec": {
   "display_name": "Python 3 (ipykernel)",
   "language": "python",
   "name": "python3"
  },
  "language_info": {
   "codemirror_mode": {
    "name": "ipython",
    "version": 3
   },
   "file_extension": ".py",
   "mimetype": "text/x-python",
   "name": "python",
   "nbconvert_exporter": "python",
   "pygments_lexer": "ipython3",
   "version": "3.11.5"
  }
 },
 "nbformat": 4,
 "nbformat_minor": 5
}

{
 "cells": [
  {
   "cell_type": "markdown",
   "id": "34350ec3",
   "metadata": {},
   "source": [
    "# File I/O"
   ]
  },
  {
   "cell_type": "markdown",
   "id": "85655c8f",
   "metadata": {},
   "source": [
    "- 'r' - Opens a file in reading mode <br>\n",
    "- 'w' - opens a file for writing <br>\n",
    "- 'x' - opens a file for exclusive creation, if already exist opearionb fails<br>\n",
    "- 'a' - opens a filoe for ppending at the end of the text file, Creates a new file if file doent exist<br>\n",
    "- 't' - opens a filr in text mode(default)<br>\n",
    "- 'b' - opens a file in binary mode<br>\n",
    "- '+' - opens a file for updating(reading and writing)<br>"
   ]
  },
  {
   "cell_type": "markdown",
   "id": "2171bcb9",
   "metadata": {},
   "source": [
    "# Opening a file "
   ]
  },
  {
   "cell_type": "code",
   "execution_count": 5,
   "id": "73667ed3",
   "metadata": {},
   "outputs": [],
   "source": [
    "# opening a file\n",
    "\n",
    "a = open('example.txt')  # default in reading mode\n",
    "\n",
    "a = open('example.txt' , 'r')\n",
    "\n",
    "a = open('example.txt' , 'w')"
   ]
  },
  {
   "cell_type": "markdown",
   "id": "a8634a15",
   "metadata": {},
   "source": [
    "# closing a file"
   ]
  },
  {
   "cell_type": "code",
   "execution_count": 6,
   "id": "11d0f3c2",
   "metadata": {},
   "outputs": [],
   "source": [
    "a = open('example.txt')\n",
    "a.close()\n",
    "\n",
    "\n",
    "\n",
    "\n",
    "# another best way is to use try.....,.......\n",
    "\n",
    "try :\n",
    "    f = open('Example.txt')\n",
    "finally:\n",
    "    f.close()"
   ]
  },
  {
   "cell_type": "markdown",
   "id": "0ea985a0",
   "metadata": {},
   "source": [
    "# Writing on a file"
   ]
  },
  {
   "cell_type": "code",
   "execution_count": 7,
   "id": "aa90e2f2",
   "metadata": {},
   "outputs": [],
   "source": [
    "f = open('example.txt' , 'w')   overrise the original\n",
    "\n",
    "f.write(\"This is my file\")\n",
    "\n",
    "f.close()"
   ]
  },
  {
   "cell_type": "code",
   "execution_count": 12,
   "id": "e46d3748",
   "metadata": {},
   "outputs": [
    {
     "data": {
      "text/plain": [
       "'This is my file'"
      ]
     },
     "execution_count": 12,
     "metadata": {},
     "output_type": "execute_result"
    }
   ],
   "source": [
    "f = open(\"example.txt\" , 'r')\n",
    "\n",
    "f.read()"
   ]
  },
  {
   "cell_type": "code",
   "execution_count": 13,
   "id": "063aba1d",
   "metadata": {},
   "outputs": [
    {
     "data": {
      "text/plain": [
       "15"
      ]
     },
     "execution_count": 13,
     "metadata": {},
     "output_type": "execute_result"
    }
   ],
   "source": [
    "f.tell()   #returns the current position. ( end of the cursor)"
   ]
  },
  {
   "cell_type": "markdown",
   "id": "94847a6b",
   "metadata": {},
   "source": [
    "# f.readline () isused to read a file line by line\n"
   ]
  },
  {
   "cell_type": "code",
   "execution_count": 14,
   "id": "dbc2d29a",
   "metadata": {},
   "outputs": [
    {
     "data": {
      "text/plain": [
       "'/Users/mac/Desktop/python and sql basics'"
      ]
     },
     "execution_count": 14,
     "metadata": {},
     "output_type": "execute_result"
    }
   ],
   "source": [
    "import os\n",
    "os.getcwd()"
   ]
  },
  {
   "cell_type": "code",
   "execution_count": 16,
   "id": "12901a85",
   "metadata": {},
   "outputs": [
    {
     "data": {
      "text/plain": [
       "['tuple.ipynb',\n",
       " 'Function.ipynb',\n",
       " 'python basics.ipynb',\n",
       " 'Sets.ipynb',\n",
       " 'List.ipynb',\n",
       " 'modules.ipynb',\n",
       " 'Dictionary.ipynb',\n",
       " 'string.ipynb',\n",
       " 'control statements.ipynb',\n",
       " 'File handling.ipynb',\n",
       " 'example.txt',\n",
       " '.ipynb_checkpoints']"
      ]
     },
     "execution_count": 16,
     "metadata": {},
     "output_type": "execute_result"
    }
   ],
   "source": [
    "os.listdir(os.getcwd())"
   ]
  },
  {
   "cell_type": "code",
   "execution_count": null,
   "id": "2d0bbea1",
   "metadata": {},
   "outputs": [],
   "source": []
  }
 ],
 "metadata": {
  "kernelspec": {
   "display_name": "Python 3 (ipykernel)",
   "language": "python",
   "name": "python3"
  },
  "language_info": {
   "codemirror_mode": {
    "name": "ipython",
    "version": 3
   },
   "file_extension": ".py",
   "mimetype": "text/x-python",
   "name": "python",
   "nbconvert_exporter": "python",
   "pygments_lexer": "ipython3",
   "version": "3.11.5"
  }
 },
 "nbformat": 4,
 "nbformat_minor": 5
}
